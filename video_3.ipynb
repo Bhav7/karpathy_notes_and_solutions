{
 "cells": [
  {
   "cell_type": "markdown",
   "metadata": {},
   "source": [
    "Randomy initialize vector representations for words in N dimensional space, called embeddings, where through tuning these embeddings through backprop, the embeddings will move around in the space, such that similair words will be within a similiafr part of the space, and those with different values are within different parts. This allows for improved generalizing to novel scenarios, where for instance if you have a training exmaple such as \"The cat is running in a room\", a sentence such as \"The dog is running in a ____\" can be predicted to end in \"room\" since the nwtwork could learn cats and dogs are animals and can co-occur in different contexts"
   ]
  },
  {
   "cell_type": "code",
   "execution_count": 1,
   "metadata": {},
   "outputs": [],
   "source": [
    "import torch\n",
    "import torch.nn.functional as F\n",
    "import matplotlib.pyplot as plt"
   ]
  },
  {
   "cell_type": "code",
   "execution_count": 2,
   "metadata": {},
   "outputs": [
    {
     "data": {
      "text/plain": [
       "['abigail',\n",
       " 'emily',\n",
       " 'elizabeth',\n",
       " 'mila',\n",
       " 'ella',\n",
       " 'avery',\n",
       " 'sofia',\n",
       " 'camila',\n",
       " 'aria',\n",
       " 'scarlett',\n",
       " 'victoria',\n",
       " 'madison',\n",
       " 'luna',\n",
       " 'grace',\n",
       " 'chloe',\n",
       " 'penelope',\n",
       " 'layla',\n",
       " 'riley',\n",
       " 'zoey',\n",
       " 'nora',\n",
       " 'lily',\n",
       " 'eleanor',\n",
       " 'hannah',\n",
       " 'lillian',\n",
       " 'addison',\n",
       " 'aubrey',\n",
       " 'ellie',\n",
       " 'stella',\n",
       " 'natalie',\n",
       " 'zoe',\n",
       " 'leah',\n",
       " 'hazel',\n",
       " 'violet',\n",
       " 'aurora',\n",
       " 'savannah',\n",
       " 'audrey',\n",
       " 'brooklyn',\n",
       " 'bella',\n",
       " 'claire',\n",
       " 'skylar',\n",
       " 'lucy',\n",
       " 'paisley',\n",
       " 'everly',\n",
       " 'anna',\n",
       " 'caroline',\n",
       " 'nova',\n",
       " 'genesis',\n",
       " 'emilia',\n",
       " 'kennedy',\n",
       " 'samantha',\n",
       " 'maya',\n",
       " 'willow',\n",
       " 'kinsley',\n",
       " 'naomi',\n",
       " 'aaliyah',\n",
       " 'elena',\n",
       " 'sarah',\n",
       " 'ariana',\n",
       " 'allison',\n",
       " 'gabriella',\n",
       " 'alice',\n",
       " 'madelyn',\n",
       " 'cora',\n",
       " 'ruby',\n",
       " 'eva',\n",
       " 'serenity',\n",
       " 'autumn',\n",
       " 'adeline',\n",
       " 'hailey',\n",
       " 'gianna',\n",
       " 'valentina',\n",
       " 'isla',\n",
       " 'eliana',\n",
       " 'quinn',\n",
       " 'nevaeh',\n",
       " 'ivy',\n",
       " 'sadie',\n",
       " 'piper',\n",
       " 'lydia',\n",
       " 'alexa',\n",
       " 'josephine',\n",
       " 'emery',\n",
       " 'julia',\n",
       " 'delilah',\n",
       " 'arianna',\n",
       " 'vivian',\n",
       " 'kaylee',\n",
       " 'sophie',\n",
       " 'brielle',\n",
       " 'madeline',\n",
       " 'peyton',\n",
       " 'rylee',\n",
       " 'clara',\n",
       " 'hadley',\n",
       " 'melanie',\n",
       " 'mackenzie',\n",
       " 'reagan',\n",
       " 'adalynn',\n",
       " 'liliana',\n",
       " 'aubree',\n",
       " 'jade',\n",
       " 'katherine',\n",
       " 'isabelle',\n",
       " 'natalia',\n",
       " 'raelynn',\n",
       " 'maria',\n",
       " 'athena',\n",
       " 'ximena',\n",
       " 'arya',\n",
       " 'leilani',\n",
       " 'taylor',\n",
       " 'faith',\n",
       " 'rose',\n",
       " 'kylie',\n",
       " 'alexandra',\n",
       " 'mary',\n",
       " 'margaret',\n",
       " 'lyla',\n",
       " 'ashley',\n",
       " 'amaya',\n",
       " 'eliza',\n",
       " 'brianna',\n",
       " 'bailey',\n",
       " 'andrea',\n",
       " 'khloe',\n",
       " 'jasmine',\n",
       " 'melody',\n",
       " 'iris',\n",
       " 'isabel',\n",
       " 'norah',\n",
       " 'annabelle',\n",
       " 'valeria',\n",
       " 'emerson',\n",
       " 'adalyn',\n",
       " 'ryleigh',\n",
       " 'eden',\n",
       " 'emersyn',\n",
       " 'anastasia',\n",
       " 'kayla',\n",
       " 'alyssa',\n",
       " 'juliana',\n",
       " 'charlie',\n",
       " 'esther',\n",
       " 'ariel',\n",
       " 'cecilia',\n",
       " 'valerie',\n",
       " 'alina',\n",
       " 'molly',\n",
       " 'reese',\n",
       " 'aliyah',\n",
       " 'lilly',\n",
       " 'parker',\n",
       " 'finley',\n",
       " 'morgan',\n",
       " 'sydney',\n",
       " 'jordyn',\n",
       " 'eloise',\n",
       " 'trinity',\n",
       " 'daisy',\n",
       " 'kimberly',\n",
       " 'lauren',\n",
       " 'genevieve',\n",
       " 'sara',\n",
       " 'arabella',\n",
       " 'harmony',\n",
       " 'elise',\n",
       " 'remi',\n",
       " 'teagan',\n",
       " 'alexis',\n",
       " 'london',\n",
       " 'sloane',\n",
       " 'laila',\n",
       " 'lucia',\n",
       " 'diana',\n",
       " 'juliette',\n",
       " 'sienna',\n",
       " 'elliana',\n",
       " 'londyn',\n",
       " 'ayla',\n",
       " 'callie',\n",
       " 'gracie',\n",
       " 'josie',\n",
       " 'amara',\n",
       " 'jocelyn',\n",
       " 'daniela',\n",
       " 'everleigh',\n",
       " 'mya',\n",
       " 'rachel',\n",
       " 'summer',\n",
       " 'alana',\n",
       " 'brooke',\n",
       " 'alaina',\n",
       " 'mckenzie',\n",
       " 'catherine',\n",
       " 'amy',\n",
       " 'presley',\n",
       " 'journee',\n",
       " 'rosalie',\n",
       " 'ember',\n",
       " 'brynlee',\n",
       " 'rowan',\n",
       " 'joanna',\n",
       " 'paige',\n",
       " 'rebecca',\n",
       " 'ana',\n",
       " 'sawyer',\n",
       " 'mariah',\n",
       " 'nicole',\n",
       " 'brooklynn',\n",
       " 'payton',\n",
       " 'marley',\n",
       " 'fiona',\n",
       " 'georgia',\n",
       " 'lila',\n",
       " 'harley',\n",
       " 'adelyn',\n",
       " 'alivia',\n",
       " 'noelle',\n",
       " 'gemma',\n",
       " 'vanessa',\n",
       " 'journey',\n",
       " 'makayla',\n",
       " 'angelina',\n",
       " 'adaline',\n",
       " 'catalina',\n",
       " 'alayna',\n",
       " 'julianna',\n",
       " 'leila',\n",
       " 'lola',\n",
       " 'adriana',\n",
       " 'june',\n",
       " 'juliet',\n",
       " 'jayla',\n",
       " 'river',\n",
       " 'tessa',\n",
       " 'lia',\n",
       " 'dakota',\n",
       " 'delaney',\n",
       " 'selena',\n",
       " 'blakely',\n",
       " 'ada',\n",
       " 'camille',\n",
       " 'zara',\n",
       " 'malia',\n",
       " 'hope',\n",
       " 'samara',\n",
       " 'vera',\n",
       " 'mckenna',\n",
       " 'briella',\n",
       " 'izabella',\n",
       " 'hayden',\n",
       " 'raegan',\n",
       " 'michelle',\n",
       " 'angela',\n",
       " 'ruth',\n",
       " 'freya',\n",
       " 'kamila',\n",
       " 'vivienne',\n",
       " 'aspen',\n",
       " 'olive',\n",
       " 'kendall',\n",
       " 'elaina',\n",
       " 'thea',\n",
       " 'kali',\n",
       " 'destiny',\n",
       " 'amiyah',\n",
       " 'evangeline',\n",
       " 'cali',\n",
       " 'blake',\n",
       " 'elsie',\n",
       " 'juniper',\n",
       " 'alexandria',\n",
       " 'myla',\n",
       " 'ariella',\n",
       " 'kate',\n",
       " 'mariana',\n",
       " 'lilah',\n",
       " 'charlee',\n",
       " 'daleyza',\n",
       " 'nyla',\n",
       " 'jane',\n",
       " 'maggie',\n",
       " 'zuri',\n",
       " 'aniyah',\n",
       " 'lucille',\n",
       " 'leia',\n",
       " 'melissa',\n",
       " 'adelaide',\n",
       " 'amina',\n",
       " 'giselle',\n",
       " 'lena',\n",
       " 'camilla',\n",
       " 'miriam',\n",
       " 'millie',\n",
       " 'brynn',\n",
       " 'gabrielle',\n",
       " 'sage',\n",
       " 'annie',\n",
       " 'logan',\n",
       " 'lilliana',\n",
       " 'haven',\n",
       " 'jessica',\n",
       " 'kaia',\n",
       " 'magnolia',\n",
       " 'amira',\n",
       " 'adelynn',\n",
       " 'makenzie',\n",
       " 'stephanie',\n",
       " 'nina',\n",
       " 'phoebe',\n",
       " 'arielle',\n",
       " 'evie',\n",
       " 'lyric',\n",
       " 'alessandra',\n",
       " 'gabriela',\n",
       " 'paislee',\n",
       " 'raelyn',\n",
       " 'madilyn',\n",
       " 'paris',\n",
       " 'makenna',\n",
       " 'kinley',\n",
       " 'gracelyn',\n",
       " 'talia',\n",
       " 'maeve',\n",
       " 'rylie',\n",
       " 'kiara',\n",
       " 'evelynn',\n",
       " 'brinley',\n",
       " 'jacqueline',\n",
       " 'laura',\n",
       " 'gracelynn',\n",
       " 'lexi',\n",
       " 'ariah',\n",
       " 'fatima',\n",
       " 'jennifer',\n",
       " 'kehlani',\n",
       " 'alani',\n",
       " 'ariyah',\n",
       " 'luciana',\n",
       " 'allie',\n",
       " 'heidi',\n",
       " 'maci',\n",
       " 'phoenix',\n",
       " 'felicity',\n",
       " 'joy',\n",
       " 'kenzie',\n",
       " 'veronica',\n",
       " 'margot',\n",
       " 'addilyn',\n",
       " 'lana',\n",
       " 'cassidy',\n",
       " 'remington',\n",
       " 'saylor',\n",
       " 'ryan',\n",
       " 'keira',\n",
       " 'harlow',\n",
       " 'miranda',\n",
       " 'angel',\n",
       " 'amanda',\n",
       " 'daniella',\n",
       " 'royalty',\n",
       " 'gwendolyn',\n",
       " 'ophelia',\n",
       " 'heaven',\n",
       " 'jordan',\n",
       " 'madeleine',\n",
       " 'esmeralda',\n",
       " 'kira',\n",
       " 'miracle',\n",
       " 'elle',\n",
       " 'amari',\n",
       " 'danielle',\n",
       " 'daphne',\n",
       " 'willa',\n",
       " 'haley',\n",
       " 'gia',\n",
       " 'kaitlyn',\n",
       " 'oakley',\n",
       " 'kailani',\n",
       " 'winter',\n",
       " 'alicia',\n",
       " 'serena',\n",
       " 'nadia',\n",
       " 'aviana',\n",
       " 'demi',\n",
       " 'jada',\n",
       " 'braelynn',\n",
       " 'dylan',\n",
       " 'ainsley',\n",
       " 'alison',\n",
       " 'camryn',\n",
       " 'avianna',\n",
       " 'bianca',\n",
       " 'skyler',\n",
       " 'scarlet',\n",
       " 'maddison',\n",
       " 'nylah',\n",
       " 'sarai',\n",
       " 'regina',\n",
       " 'dahlia',\n",
       " 'nayeli',\n",
       " 'raven',\n",
       " 'helen',\n",
       " 'adrianna',\n",
       " 'averie',\n",
       " 'skye',\n",
       " 'kelsey',\n",
       " 'tatum',\n",
       " 'kensley',\n",
       " 'maliyah',\n",
       " 'erin',\n",
       " 'viviana',\n",
       " 'jenna',\n",
       " 'anaya',\n",
       " 'carolina',\n",
       " 'shelby',\n",
       " 'sabrina',\n",
       " 'mikayla',\n",
       " 'annalise',\n",
       " 'octavia',\n",
       " 'lennon',\n",
       " 'blair',\n",
       " 'carmen',\n",
       " 'yaretzi',\n",
       " 'kennedi',\n",
       " 'mabel',\n",
       " 'zariah',\n",
       " 'kyla',\n",
       " 'christina',\n",
       " 'selah',\n",
       " 'celeste',\n",
       " 'eve',\n",
       " 'mckinley',\n",
       " 'milani',\n",
       " 'frances',\n",
       " 'jimena',\n",
       " 'kylee',\n",
       " 'leighton',\n",
       " 'katie',\n",
       " 'aitana',\n",
       " 'kayleigh',\n",
       " 'sierra',\n",
       " 'kathryn',\n",
       " 'rosemary',\n",
       " 'jolene',\n",
       " 'alondra',\n",
       " 'elisa',\n",
       " 'helena',\n",
       " 'charleigh',\n",
       " 'hallie',\n",
       " 'lainey',\n",
       " 'avah',\n",
       " 'jazlyn',\n",
       " 'kamryn',\n",
       " 'mira',\n",
       " 'cheyenne',\n",
       " 'francesca',\n",
       " 'antonella',\n",
       " 'wren',\n",
       " 'chelsea',\n",
       " 'amber',\n",
       " 'emory',\n",
       " 'lorelei',\n",
       " 'nia',\n",
       " 'abby',\n",
       " 'april',\n",
       " 'emelia',\n",
       " 'carter',\n",
       " 'aylin',\n",
       " 'cataleya',\n",
       " 'bethany',\n",
       " 'marlee',\n",
       " 'carly',\n",
       " 'kaylani',\n",
       " 'emely',\n",
       " 'liana',\n",
       " 'madelynn',\n",
       " 'cadence',\n",
       " 'matilda',\n",
       " 'sylvia',\n",
       " 'myra',\n",
       " 'fernanda',\n",
       " 'oaklyn',\n",
       " 'elianna',\n",
       " 'hattie',\n",
       " 'dayana',\n",
       " 'kendra',\n",
       " 'maisie',\n",
       " 'malaysia',\n",
       " 'kara',\n",
       " 'katelyn',\n",
       " 'maia',\n",
       " 'celine',\n",
       " 'cameron',\n",
       " 'renata',\n",
       " 'jayleen',\n",
       " 'charli',\n",
       " 'emmalyn',\n",
       " 'holly',\n",
       " 'azalea',\n",
       " 'leona',\n",
       " 'alejandra',\n",
       " 'bristol',\n",
       " 'collins',\n",
       " 'imani',\n",
       " 'meadow',\n",
       " 'alexia',\n",
       " 'edith',\n",
       " 'kaydence',\n",
       " 'leslie',\n",
       " 'lilith',\n",
       " 'kora',\n",
       " 'aisha',\n",
       " 'meredith',\n",
       " 'danna',\n",
       " 'wynter',\n",
       " 'emberly',\n",
       " 'julieta',\n",
       " 'michaela',\n",
       " 'alayah',\n",
       " 'jemma',\n",
       " 'reign',\n",
       " 'colette',\n",
       " 'kaliyah',\n",
       " 'elliott',\n",
       " 'johanna',\n",
       " 'remy',\n",
       " 'sutton',\n",
       " 'emmy',\n",
       " 'virginia',\n",
       " 'briana',\n",
       " 'oaklynn',\n",
       " 'adelina',\n",
       " 'everlee',\n",
       " 'megan',\n",
       " 'angelica',\n",
       " 'justice',\n",
       " 'mariam',\n",
       " 'khaleesi',\n",
       " 'macie',\n",
       " 'karsyn',\n",
       " 'alanna',\n",
       " 'aleah',\n",
       " 'mae',\n",
       " 'mallory',\n",
       " 'esme',\n",
       " 'skyla',\n",
       " 'madilynn',\n",
       " 'charley',\n",
       " 'allyson',\n",
       " 'hanna',\n",
       " 'shiloh',\n",
       " 'henley',\n",
       " 'macy',\n",
       " 'maryam',\n",
       " 'ivanna',\n",
       " 'ashlynn',\n",
       " 'lorelai',\n",
       " 'amora',\n",
       " 'ashlyn',\n",
       " 'sasha',\n",
       " 'baylee',\n",
       " 'beatrice',\n",
       " 'itzel',\n",
       " 'priscilla',\n",
       " 'marie',\n",
       " 'jayda',\n",
       " 'liberty',\n",
       " 'rory',\n",
       " 'alessia',\n",
       " 'alaia',\n",
       " 'janelle',\n",
       " 'kalani',\n",
       " 'gloria',\n",
       " 'sloan',\n",
       " 'dorothy',\n",
       " 'greta',\n",
       " 'julie',\n",
       " 'zahra',\n",
       " 'savanna',\n",
       " 'annabella',\n",
       " 'poppy',\n",
       " 'amalia',\n",
       " 'zaylee',\n",
       " 'cecelia',\n",
       " 'coraline',\n",
       " 'kimber',\n",
       " 'emmie',\n",
       " 'anne',\n",
       " 'karina',\n",
       " 'kassidy',\n",
       " 'kynlee',\n",
       " 'monroe',\n",
       " 'anahi',\n",
       " 'jaliyah',\n",
       " 'jazmin',\n",
       " 'maren',\n",
       " 'monica',\n",
       " 'siena',\n",
       " 'marilyn',\n",
       " 'reyna',\n",
       " 'kyra',\n",
       " 'lilian',\n",
       " 'jamie',\n",
       " 'melany',\n",
       " 'alaya',\n",
       " 'ariya',\n",
       " 'kelly',\n",
       " 'rosie',\n",
       " 'adley',\n",
       " 'dream',\n",
       " 'jaylah',\n",
       " 'laurel',\n",
       " 'jazmine',\n",
       " 'mina',\n",
       " 'karla',\n",
       " 'bailee',\n",
       " 'aubrie',\n",
       " 'katalina',\n",
       " 'melina',\n",
       " 'harlee',\n",
       " 'elliot',\n",
       " 'hayley',\n",
       " 'elaine',\n",
       " 'karen',\n",
       " 'dallas',\n",
       " 'irene',\n",
       " 'lylah',\n",
       " 'ivory',\n",
       " 'chaya',\n",
       " 'rosa',\n",
       " 'aleena',\n",
       " 'braelyn',\n",
       " 'nola',\n",
       " 'alma',\n",
       " 'leyla',\n",
       " 'pearl',\n",
       " 'addyson',\n",
       " 'roselyn',\n",
       " 'lacey',\n",
       " 'lennox',\n",
       " 'reina',\n",
       " 'aurelia',\n",
       " 'noa',\n",
       " 'janiyah',\n",
       " 'jessie',\n",
       " 'madisyn',\n",
       " 'saige',\n",
       " 'alia',\n",
       " 'tiana',\n",
       " 'astrid',\n",
       " 'cassandra',\n",
       " 'kyleigh',\n",
       " 'romina',\n",
       " 'stevie',\n",
       " 'haylee',\n",
       " 'zelda',\n",
       " 'lillie',\n",
       " 'aileen',\n",
       " 'brylee',\n",
       " 'eileen',\n",
       " 'yara',\n",
       " 'ensley',\n",
       " 'lauryn',\n",
       " 'giuliana',\n",
       " 'livia',\n",
       " 'anya',\n",
       " 'mikaela',\n",
       " 'palmer',\n",
       " 'lyra',\n",
       " 'mara',\n",
       " 'marina',\n",
       " 'kailey',\n",
       " 'liv',\n",
       " 'clementine',\n",
       " 'kenna',\n",
       " 'briar',\n",
       " 'emerie',\n",
       " 'galilea',\n",
       " 'tiffany',\n",
       " 'bonnie',\n",
       " 'elyse',\n",
       " 'cynthia',\n",
       " 'frida',\n",
       " 'kinslee',\n",
       " 'tatiana',\n",
       " 'joelle',\n",
       " 'armani',\n",
       " 'jolie',\n",
       " 'nalani',\n",
       " 'rayna',\n",
       " 'yareli',\n",
       " 'meghan',\n",
       " 'rebekah',\n",
       " 'addilynn',\n",
       " 'faye',\n",
       " 'zariyah',\n",
       " 'lea',\n",
       " 'aliza',\n",
       " 'julissa',\n",
       " 'lilyana',\n",
       " 'anika',\n",
       " 'kairi',\n",
       " 'aniya',\n",
       " 'noemi',\n",
       " 'angie',\n",
       " 'crystal',\n",
       " 'bridget',\n",
       " 'ari',\n",
       " 'davina',\n",
       " 'amelie',\n",
       " 'amirah',\n",
       " 'annika',\n",
       " 'elora',\n",
       " 'xiomara',\n",
       " 'linda',\n",
       " 'hana',\n",
       " 'laney',\n",
       " 'mercy',\n",
       " 'hadassah',\n",
       " 'madalyn',\n",
       " 'louisa',\n",
       " 'simone',\n",
       " 'kori',\n",
       " 'jillian',\n",
       " 'alena',\n",
       " 'malaya',\n",
       " 'miley',\n",
       " 'milan',\n",
       " 'sariyah',\n",
       " 'malani',\n",
       " 'clarissa',\n",
       " 'nala',\n",
       " 'princess',\n",
       " 'amani',\n",
       " 'analia',\n",
       " 'estella',\n",
       " 'milana',\n",
       " 'aya',\n",
       " 'chana',\n",
       " 'jayde',\n",
       " 'tenley',\n",
       " 'zaria',\n",
       " 'itzayana',\n",
       " 'penny',\n",
       " 'ailani',\n",
       " 'lara',\n",
       " 'aubriella',\n",
       " 'clare',\n",
       " 'lina',\n",
       " 'rhea',\n",
       " 'bria',\n",
       " 'thalia',\n",
       " 'keyla',\n",
       " 'haisley',\n",
       " 'ryann',\n",
       " 'addisyn',\n",
       " 'amaia',\n",
       " 'chanel',\n",
       " 'ellen',\n",
       " 'harmoni',\n",
       " 'aliana',\n",
       " 'tinsley',\n",
       " 'landry',\n",
       " 'paisleigh',\n",
       " 'lexie',\n",
       " 'myah',\n",
       " 'rylan',\n",
       " 'deborah',\n",
       " 'emilee',\n",
       " 'laylah',\n",
       " 'novalee',\n",
       " 'ellis',\n",
       " 'emmeline',\n",
       " 'avalynn',\n",
       " 'hadlee',\n",
       " 'legacy',\n",
       " 'braylee',\n",
       " 'elisabeth',\n",
       " 'kaylie',\n",
       " 'ansley',\n",
       " 'dior',\n",
       " 'paula',\n",
       " 'belen',\n",
       " 'corinne',\n",
       " 'maleah',\n",
       " 'martha',\n",
       " 'teresa',\n",
       " 'salma',\n",
       " 'louise',\n",
       " 'averi',\n",
       " 'lilianna',\n",
       " 'amiya',\n",
       " 'milena',\n",
       " 'royal',\n",
       " 'aubrielle',\n",
       " 'calliope',\n",
       " 'frankie',\n",
       " 'natasha',\n",
       " 'kamilah',\n",
       " 'meilani',\n",
       " 'raina',\n",
       " 'amayah',\n",
       " 'lailah',\n",
       " 'rayne',\n",
       " 'zaniyah',\n",
       " 'isabela',\n",
       " 'nathalie',\n",
       " 'miah',\n",
       " 'opal',\n",
       " 'kenia',\n",
       " 'azariah',\n",
       " 'hunter',\n",
       " 'tori',\n",
       " 'andi',\n",
       " 'keily',\n",
       " 'leanna',\n",
       " 'scarlette',\n",
       " 'jaelyn',\n",
       " 'saoirse',\n",
       " 'selene',\n",
       " 'dalary',\n",
       " 'lindsey',\n",
       " 'marianna',\n",
       " 'ramona',\n",
       " 'estelle',\n",
       " 'giovanna',\n",
       " 'holland',\n",
       " 'nancy',\n",
       " 'emmalynn',\n",
       " 'mylah',\n",
       " 'rosalee',\n",
       " 'sariah',\n",
       " 'zoie',\n",
       " 'blaire',\n",
       " 'lyanna',\n",
       " 'maxine',\n",
       " 'anais',\n",
       " 'dana',\n",
       " 'judith',\n",
       " 'kiera',\n",
       " 'jaelynn',\n",
       " 'noor',\n",
       " 'kai',\n",
       " 'adalee',\n",
       " 'oaklee',\n",
       " 'amaris',\n",
       " 'jaycee',\n",
       " 'belle',\n",
       " 'carolyn',\n",
       " 'della',\n",
       " 'karter',\n",
       " 'sky',\n",
       " 'treasure',\n",
       " 'vienna',\n",
       " 'jewel',\n",
       " 'rivka',\n",
       " 'rosalyn',\n",
       " 'alannah',\n",
       " 'ellianna',\n",
       " 'sunny',\n",
       " 'claudia',\n",
       " 'cara',\n",
       " 'hailee',\n",
       " 'estrella',\n",
       " 'harleigh',\n",
       " 'zhavia',\n",
       " 'alianna',\n",
       " 'brittany',\n",
       " 'jaylene',\n",
       " 'journi',\n",
       " 'marissa',\n",
       " 'mavis',\n",
       " 'iliana',\n",
       " 'jurnee',\n",
       " 'aislinn',\n",
       " 'alyson',\n",
       " 'elsa',\n",
       " 'kamiyah',\n",
       " 'kiana',\n",
       " 'lisa',\n",
       " 'arlette',\n",
       " 'kadence',\n",
       " 'kathleen',\n",
       " 'halle',\n",
       " 'erika',\n",
       " 'sylvie',\n",
       " 'adele',\n",
       " 'erica',\n",
       " 'veda',\n",
       " 'whitney',\n",
       " 'bexley',\n",
       " 'emmaline',\n",
       " 'guadalupe',\n",
       " 'august',\n",
       " 'brynleigh',\n",
       " 'gwen',\n",
       " 'promise',\n",
       " 'alisson',\n",
       " 'india',\n",
       " 'madalynn',\n",
       " 'paloma',\n",
       " 'patricia',\n",
       " 'samira',\n",
       " 'aliya',\n",
       " 'casey',\n",
       " 'jazlynn',\n",
       " 'paulina',\n",
       " 'dulce',\n",
       " 'kallie',\n",
       " 'perla',\n",
       " 'adrienne',\n",
       " 'alora',\n",
       " 'nataly',\n",
       " 'ayleen',\n",
       " 'christine',\n",
       " 'kaiya',\n",
       " 'ariadne',\n",
       " 'karlee',\n",
       " 'barbara',\n",
       " 'lillianna',\n",
       " 'raquel',\n",
       " 'saniyah',\n",
       " 'yamileth',\n",
       " 'arely',\n",
       " 'celia',\n",
       " 'heavenly',\n",
       " 'kaylin',\n",
       " 'marisol',\n",
       " 'marleigh',\n",
       " 'avalyn',\n",
       " 'berkley',\n",
       " 'kataleya',\n",
       " 'zainab',\n",
       " 'dani',\n",
       " 'egypt',\n",
       " 'joyce',\n",
       " 'kenley',\n",
       " 'annabel',\n",
       " 'kaelyn',\n",
       " 'etta',\n",
       " 'hadleigh',\n",
       " 'joselyn',\n",
       " 'luella',\n",
       " 'jaylee',\n",
       " 'zola',\n",
       " 'alisha',\n",
       " 'ezra',\n",
       " 'queen',\n",
       " 'amia',\n",
       " 'annalee',\n",
       " 'bellamy',\n",
       " 'paola',\n",
       " 'tinley',\n",
       " 'violeta',\n",
       " 'jenesis',\n",
       " 'arden',\n",
       " 'giana',\n",
       " 'wendy',\n",
       " 'ellison',\n",
       " 'florence',\n",
       " 'margo',\n",
       " 'naya',\n",
       " 'robin',\n",
       " 'sandra',\n",
       " 'scout',\n",
       " 'waverly',\n",
       " 'janessa',\n",
       " 'jayden',\n",
       " 'micah',\n",
       " 'novah',\n",
       " 'zora',\n",
       " 'ann',\n",
       " 'jana',\n",
       " 'taliyah',\n",
       " 'vada',\n",
       " 'giavanna',\n",
       " 'ingrid',\n",
       " 'valery',\n",
       " 'azaria',\n",
       " 'emmarie',\n",
       " 'esperanza',\n",
       " 'kailyn',\n",
       " 'aiyana',\n",
       " 'keilani',\n",
       " 'austyn',\n",
       " 'whitley',\n",
       " 'elina',\n",
       " 'kimora',\n",
       " 'maliah',\n",
       " 'paityn',\n",
       " 'evalyn',\n",
       " 'luz',\n",
       " 'nathalia',\n",
       " 'winnie',\n",
       " 'chandler',\n",
       " 'ciara',\n",
       " 'danica',\n",
       " 'nailah',\n",
       " 'rilynn',\n",
       " ...]"
      ]
     },
     "execution_count": 2,
     "metadata": {},
     "output_type": "execute_result"
    }
   ],
   "source": [
    "words = open(\"video_2_dependencies/names.txt\").read().splitlines()\n",
    "words[10:]"
   ]
  },
  {
   "cell_type": "code",
   "execution_count": 3,
   "metadata": {},
   "outputs": [
    {
     "data": {
      "text/plain": [
       "32033"
      ]
     },
     "execution_count": 3,
     "metadata": {},
     "output_type": "execute_result"
    }
   ],
   "source": [
    "len(words)"
   ]
  },
  {
   "cell_type": "code",
   "execution_count": 5,
   "metadata": {},
   "outputs": [
    {
     "name": "stdout",
     "output_type": "stream",
     "text": [
      "{1: 'a', 2: 'b', 3: 'c', 4: 'd', 5: 'e', 6: 'f', 7: 'g', 8: 'h', 9: 'i', 10: 'j', 11: 'k', 12: 'l', 13: 'm', 14: 'n', 15: 'o', 16: 'p', 17: 'q', 18: 'r', 19: 's', 20: 't', 21: 'u', 22: 'v', 23: 'w', 24: 'x', 25: 'y', 26: 'z', 0: '.'}\n"
     ]
    }
   ],
   "source": [
    "#Build the vocabulary of characters and mappings to from integers\n",
    "chars = sorted(list(set(\"\".join(words))))\n",
    "stoi = {char:idx+1 for idx, char in enumerate(chars)}\n",
    "stoi[\".\"] = 0\n",
    "itos = {i:s for s,i in stoi.items()}\n",
    "print(itos)"
   ]
  },
  {
   "cell_type": "code",
   "execution_count": 6,
   "metadata": {},
   "outputs": [
    {
     "name": "stdout",
     "output_type": "stream",
     "text": [
      "emma\n",
      "... ---> e\n",
      "..e ---> m\n",
      ".em ---> m\n",
      "emm ---> a\n",
      "mma ---> .\n",
      "olivia\n",
      "... ---> o\n",
      "..o ---> l\n",
      ".ol ---> i\n",
      "oli ---> v\n",
      "liv ---> i\n",
      "ivi ---> a\n",
      "via ---> .\n",
      "ava\n",
      "... ---> a\n",
      "..a ---> v\n",
      ".av ---> a\n",
      "ava ---> .\n",
      "isabella\n",
      "... ---> i\n",
      "..i ---> s\n",
      ".is ---> a\n",
      "isa ---> b\n",
      "sab ---> e\n",
      "abe ---> l\n",
      "bel ---> l\n",
      "ell ---> a\n",
      "lla ---> .\n",
      "sophia\n",
      "... ---> s\n",
      "..s ---> o\n",
      ".so ---> p\n",
      "sop ---> h\n",
      "oph ---> i\n",
      "phi ---> a\n",
      "hia ---> .\n"
     ]
    }
   ],
   "source": [
    "#build dataset\n",
    "\n",
    "block_size = 3 #Context Length: How many characters dp we take to predict the next one?\n",
    "X, Y = [], []\n",
    "for w in words[:5]:\n",
    "\n",
    "    print(w)\n",
    "    context = [0] * block_size\n",
    "    for ch in w + \".\":\n",
    "        ix = stoi[ch]\n",
    "        X.append(context)\n",
    "        Y.append(ix)\n",
    "\n",
    "        print(\"\".join(itos[i] for i in context), \"--->\", itos[ix])\n",
    "        context = context[1:] + [ix] #crop and append\n",
    "\n",
    "X = torch.tensor(X) \n",
    "Y = torch.tensor(Y)"
   ]
  },
  {
   "cell_type": "code",
   "execution_count": 8,
   "metadata": {},
   "outputs": [
    {
     "data": {
      "text/plain": [
       "(torch.Size([32, 3]), torch.int64, torch.Size([32]), torch.int64)"
      ]
     },
     "execution_count": 8,
     "metadata": {},
     "output_type": "execute_result"
    }
   ],
   "source": [
    "X.shape, X.dtype, Y.shape, Y.dtype"
   ]
  },
  {
   "cell_type": "code",
   "execution_count": 9,
   "metadata": {},
   "outputs": [
    {
     "data": {
      "text/plain": [
       "tensor([[ 0,  0,  0],\n",
       "        [ 0,  0,  5],\n",
       "        [ 0,  5, 13],\n",
       "        [ 5, 13, 13],\n",
       "        [13, 13,  1],\n",
       "        [ 0,  0,  0],\n",
       "        [ 0,  0, 15],\n",
       "        [ 0, 15, 12],\n",
       "        [15, 12,  9],\n",
       "        [12,  9, 22],\n",
       "        [ 9, 22,  9],\n",
       "        [22,  9,  1],\n",
       "        [ 0,  0,  0],\n",
       "        [ 0,  0,  1],\n",
       "        [ 0,  1, 22],\n",
       "        [ 1, 22,  1],\n",
       "        [ 0,  0,  0],\n",
       "        [ 0,  0,  9],\n",
       "        [ 0,  9, 19],\n",
       "        [ 9, 19,  1],\n",
       "        [19,  1,  2],\n",
       "        [ 1,  2,  5],\n",
       "        [ 2,  5, 12],\n",
       "        [ 5, 12, 12],\n",
       "        [12, 12,  1],\n",
       "        [ 0,  0,  0],\n",
       "        [ 0,  0, 19],\n",
       "        [ 0, 19, 15],\n",
       "        [19, 15, 16],\n",
       "        [15, 16,  8],\n",
       "        [16,  8,  9],\n",
       "        [ 8,  9,  1]])"
      ]
     },
     "execution_count": 9,
     "metadata": {},
     "output_type": "execute_result"
    }
   ],
   "source": [
    "X"
   ]
  },
  {
   "cell_type": "code",
   "execution_count": 10,
   "metadata": {},
   "outputs": [
    {
     "data": {
      "text/plain": [
       "tensor([ 5, 13, 13,  1,  0, 15, 12,  9, 22,  9,  1,  0,  1, 22,  1,  0,  9, 19,\n",
       "         1,  2,  5, 12, 12,  1,  0, 19, 15, 16,  8,  9,  1,  0])"
      ]
     },
     "execution_count": 10,
     "metadata": {},
     "output_type": "execute_result"
    }
   ],
   "source": [
    "Y"
   ]
  },
  {
   "cell_type": "code",
   "execution_count": 13,
   "metadata": {},
   "outputs": [],
   "source": [
    "#Creating Embeddings for characters\n",
    "\n",
    "C = torch.randn((27, 2)) #2-D embeddings"
   ]
  },
  {
   "cell_type": "code",
   "execution_count": 21,
   "metadata": {},
   "outputs": [
    {
     "data": {
      "text/plain": [
       "(tensor([-0.4602, -0.6537]), tensor([-0.4602, -0.6537]))"
      ]
     },
     "execution_count": 21,
     "metadata": {},
     "output_type": "execute_result"
    }
   ],
   "source": [
    "#Can access embeddings in two ways\n",
    "C[5], F.one_hot(torch.tensor(5), num_classes = 27).float() @ C\n",
    "\n",
    "#Note Long == Int"
   ]
  },
  {
   "cell_type": "code",
   "execution_count": 26,
   "metadata": {},
   "outputs": [
    {
     "data": {
      "text/plain": [
       "tensor([[[-0.6260, -0.5492],\n",
       "         [-0.6260, -0.5492],\n",
       "         [-0.6260, -0.5492]],\n",
       "\n",
       "        [[-0.6260, -0.5492],\n",
       "         [-0.6260, -0.5492],\n",
       "         [-0.4602, -0.6537]],\n",
       "\n",
       "        [[-0.6260, -0.5492],\n",
       "         [-0.4602, -0.6537],\n",
       "         [ 0.9872,  0.3715]],\n",
       "\n",
       "        [[-0.4602, -0.6537],\n",
       "         [ 0.9872,  0.3715],\n",
       "         [ 0.9872,  0.3715]],\n",
       "\n",
       "        [[ 0.9872,  0.3715],\n",
       "         [ 0.9872,  0.3715],\n",
       "         [ 1.0517,  0.4103]],\n",
       "\n",
       "        [[-0.6260, -0.5492],\n",
       "         [-0.6260, -0.5492],\n",
       "         [-0.6260, -0.5492]],\n",
       "\n",
       "        [[-0.6260, -0.5492],\n",
       "         [-0.6260, -0.5492],\n",
       "         [ 0.4601, -0.9644]],\n",
       "\n",
       "        [[-0.6260, -0.5492],\n",
       "         [ 0.4601, -0.9644],\n",
       "         [ 1.2220, -0.2192]],\n",
       "\n",
       "        [[ 0.4601, -0.9644],\n",
       "         [ 1.2220, -0.2192],\n",
       "         [ 0.2711,  1.1588]],\n",
       "\n",
       "        [[ 1.2220, -0.2192],\n",
       "         [ 0.2711,  1.1588],\n",
       "         [-0.8800, -0.5781]],\n",
       "\n",
       "        [[ 0.2711,  1.1588],\n",
       "         [-0.8800, -0.5781],\n",
       "         [ 0.2711,  1.1588]],\n",
       "\n",
       "        [[-0.8800, -0.5781],\n",
       "         [ 0.2711,  1.1588],\n",
       "         [ 1.0517,  0.4103]],\n",
       "\n",
       "        [[-0.6260, -0.5492],\n",
       "         [-0.6260, -0.5492],\n",
       "         [-0.6260, -0.5492]],\n",
       "\n",
       "        [[-0.6260, -0.5492],\n",
       "         [-0.6260, -0.5492],\n",
       "         [ 1.0517,  0.4103]],\n",
       "\n",
       "        [[-0.6260, -0.5492],\n",
       "         [ 1.0517,  0.4103],\n",
       "         [-0.8800, -0.5781]],\n",
       "\n",
       "        [[ 1.0517,  0.4103],\n",
       "         [-0.8800, -0.5781],\n",
       "         [ 1.0517,  0.4103]],\n",
       "\n",
       "        [[-0.6260, -0.5492],\n",
       "         [-0.6260, -0.5492],\n",
       "         [-0.6260, -0.5492]],\n",
       "\n",
       "        [[-0.6260, -0.5492],\n",
       "         [-0.6260, -0.5492],\n",
       "         [ 0.2711,  1.1588]],\n",
       "\n",
       "        [[-0.6260, -0.5492],\n",
       "         [ 0.2711,  1.1588],\n",
       "         [-1.2957,  0.0522]],\n",
       "\n",
       "        [[ 0.2711,  1.1588],\n",
       "         [-1.2957,  0.0522],\n",
       "         [ 1.0517,  0.4103]],\n",
       "\n",
       "        [[-1.2957,  0.0522],\n",
       "         [ 1.0517,  0.4103],\n",
       "         [-0.1028, -0.6793]],\n",
       "\n",
       "        [[ 1.0517,  0.4103],\n",
       "         [-0.1028, -0.6793],\n",
       "         [-0.4602, -0.6537]],\n",
       "\n",
       "        [[-0.1028, -0.6793],\n",
       "         [-0.4602, -0.6537],\n",
       "         [ 1.2220, -0.2192]],\n",
       "\n",
       "        [[-0.4602, -0.6537],\n",
       "         [ 1.2220, -0.2192],\n",
       "         [ 1.2220, -0.2192]],\n",
       "\n",
       "        [[ 1.2220, -0.2192],\n",
       "         [ 1.2220, -0.2192],\n",
       "         [ 1.0517,  0.4103]],\n",
       "\n",
       "        [[-0.6260, -0.5492],\n",
       "         [-0.6260, -0.5492],\n",
       "         [-0.6260, -0.5492]],\n",
       "\n",
       "        [[-0.6260, -0.5492],\n",
       "         [-0.6260, -0.5492],\n",
       "         [-1.2957,  0.0522]],\n",
       "\n",
       "        [[-0.6260, -0.5492],\n",
       "         [-1.2957,  0.0522],\n",
       "         [ 0.4601, -0.9644]],\n",
       "\n",
       "        [[-1.2957,  0.0522],\n",
       "         [ 0.4601, -0.9644],\n",
       "         [ 1.1754, -1.2647]],\n",
       "\n",
       "        [[ 0.4601, -0.9644],\n",
       "         [ 1.1754, -1.2647],\n",
       "         [-0.1673,  1.4102]],\n",
       "\n",
       "        [[ 1.1754, -1.2647],\n",
       "         [-0.1673,  1.4102],\n",
       "         [ 0.2711,  1.1588]],\n",
       "\n",
       "        [[-0.1673,  1.4102],\n",
       "         [ 0.2711,  1.1588],\n",
       "         [ 1.0517,  0.4103]]])"
      ]
     },
     "execution_count": 26,
     "metadata": {},
     "output_type": "execute_result"
    }
   ],
   "source": [
    "C[X]"
   ]
  },
  {
   "cell_type": "code",
   "execution_count": 27,
   "metadata": {},
   "outputs": [
    {
     "data": {
      "text/plain": [
       "tensor(1)"
      ]
     },
     "execution_count": 27,
     "metadata": {},
     "output_type": "execute_result"
    }
   ],
   "source": [
    "X[13, 2]"
   ]
  },
  {
   "cell_type": "code",
   "execution_count": 28,
   "metadata": {},
   "outputs": [
    {
     "data": {
      "text/plain": [
       "tensor([1.0517, 0.4103])"
      ]
     },
     "execution_count": 28,
     "metadata": {},
     "output_type": "execute_result"
    }
   ],
   "source": [
    "C[1]"
   ]
  },
  {
   "cell_type": "code",
   "execution_count": 29,
   "metadata": {},
   "outputs": [
    {
     "data": {
      "text/plain": [
       "tensor([1.0517, 0.4103])"
      ]
     },
     "execution_count": 29,
     "metadata": {},
     "output_type": "execute_result"
    }
   ],
   "source": [
    "C[X][13,2,:]"
   ]
  },
  {
   "cell_type": "code",
   "execution_count": 31,
   "metadata": {},
   "outputs": [
    {
     "data": {
      "text/plain": [
       "torch.Size([32, 3, 2])"
      ]
     },
     "execution_count": 31,
     "metadata": {},
     "output_type": "execute_result"
    }
   ],
   "source": [
    "emb = C[X]\n",
    "emb.shape"
   ]
  },
  {
   "cell_type": "code",
   "execution_count": 33,
   "metadata": {},
   "outputs": [],
   "source": [
    "W1 = torch.randn((6, 100)); W1.requires_grad = True\n",
    "b1 = torch.randn(100); b1.requires_grad = True"
   ]
  },
  {
   "cell_type": "markdown",
   "metadata": {},
   "source": [
    "We need to concatenate the tensors together, to use as input to NN. Multiple different approaches though..."
   ]
  },
  {
   "cell_type": "code",
   "execution_count": 40,
   "metadata": {},
   "outputs": [
    {
     "name": "stdout",
     "output_type": "stream",
     "text": [
      "torch.Size([32, 2])\n"
     ]
    },
    {
     "data": {
      "text/plain": [
       "tensor([[-0.6260, -0.5492, -0.6260, -0.5492, -0.6260, -0.5492],\n",
       "        [-0.6260, -0.5492, -0.6260, -0.5492, -0.4602, -0.6537],\n",
       "        [-0.6260, -0.5492, -0.4602, -0.6537,  0.9872,  0.3715],\n",
       "        [-0.4602, -0.6537,  0.9872,  0.3715,  0.9872,  0.3715],\n",
       "        [ 0.9872,  0.3715,  0.9872,  0.3715,  1.0517,  0.4103],\n",
       "        [-0.6260, -0.5492, -0.6260, -0.5492, -0.6260, -0.5492],\n",
       "        [-0.6260, -0.5492, -0.6260, -0.5492,  0.4601, -0.9644],\n",
       "        [-0.6260, -0.5492,  0.4601, -0.9644,  1.2220, -0.2192],\n",
       "        [ 0.4601, -0.9644,  1.2220, -0.2192,  0.2711,  1.1588],\n",
       "        [ 1.2220, -0.2192,  0.2711,  1.1588, -0.8800, -0.5781],\n",
       "        [ 0.2711,  1.1588, -0.8800, -0.5781,  0.2711,  1.1588],\n",
       "        [-0.8800, -0.5781,  0.2711,  1.1588,  1.0517,  0.4103],\n",
       "        [-0.6260, -0.5492, -0.6260, -0.5492, -0.6260, -0.5492],\n",
       "        [-0.6260, -0.5492, -0.6260, -0.5492,  1.0517,  0.4103],\n",
       "        [-0.6260, -0.5492,  1.0517,  0.4103, -0.8800, -0.5781],\n",
       "        [ 1.0517,  0.4103, -0.8800, -0.5781,  1.0517,  0.4103],\n",
       "        [-0.6260, -0.5492, -0.6260, -0.5492, -0.6260, -0.5492],\n",
       "        [-0.6260, -0.5492, -0.6260, -0.5492,  0.2711,  1.1588],\n",
       "        [-0.6260, -0.5492,  0.2711,  1.1588, -1.2957,  0.0522],\n",
       "        [ 0.2711,  1.1588, -1.2957,  0.0522,  1.0517,  0.4103],\n",
       "        [-1.2957,  0.0522,  1.0517,  0.4103, -0.1028, -0.6793],\n",
       "        [ 1.0517,  0.4103, -0.1028, -0.6793, -0.4602, -0.6537],\n",
       "        [-0.1028, -0.6793, -0.4602, -0.6537,  1.2220, -0.2192],\n",
       "        [-0.4602, -0.6537,  1.2220, -0.2192,  1.2220, -0.2192],\n",
       "        [ 1.2220, -0.2192,  1.2220, -0.2192,  1.0517,  0.4103],\n",
       "        [-0.6260, -0.5492, -0.6260, -0.5492, -0.6260, -0.5492],\n",
       "        [-0.6260, -0.5492, -0.6260, -0.5492, -1.2957,  0.0522],\n",
       "        [-0.6260, -0.5492, -1.2957,  0.0522,  0.4601, -0.9644],\n",
       "        [-1.2957,  0.0522,  0.4601, -0.9644,  1.1754, -1.2647],\n",
       "        [ 0.4601, -0.9644,  1.1754, -1.2647, -0.1673,  1.4102],\n",
       "        [ 1.1754, -1.2647, -0.1673,  1.4102,  0.2711,  1.1588],\n",
       "        [-0.1673,  1.4102,  0.2711,  1.1588,  1.0517,  0.4103]])"
      ]
     },
     "execution_count": 40,
     "metadata": {},
     "output_type": "execute_result"
    }
   ],
   "source": [
    "print(emb[:, 0, :].shape)\n",
    "torch.cat([emb[:, 0, :], emb[:, 1, :], emb[:, 2, :]], dim = 1)"
   ]
  },
  {
   "cell_type": "code",
   "execution_count": 42,
   "metadata": {},
   "outputs": [
    {
     "name": "stdout",
     "output_type": "stream",
     "text": [
      "3\n"
     ]
    },
    {
     "data": {
      "text/plain": [
       "(tensor([[-0.6260, -0.5492],\n",
       "         [-0.6260, -0.5492],\n",
       "         [-0.6260, -0.5492],\n",
       "         [-0.4602, -0.6537],\n",
       "         [ 0.9872,  0.3715],\n",
       "         [-0.6260, -0.5492],\n",
       "         [-0.6260, -0.5492],\n",
       "         [-0.6260, -0.5492],\n",
       "         [ 0.4601, -0.9644],\n",
       "         [ 1.2220, -0.2192],\n",
       "         [ 0.2711,  1.1588],\n",
       "         [-0.8800, -0.5781],\n",
       "         [-0.6260, -0.5492],\n",
       "         [-0.6260, -0.5492],\n",
       "         [-0.6260, -0.5492],\n",
       "         [ 1.0517,  0.4103],\n",
       "         [-0.6260, -0.5492],\n",
       "         [-0.6260, -0.5492],\n",
       "         [-0.6260, -0.5492],\n",
       "         [ 0.2711,  1.1588],\n",
       "         [-1.2957,  0.0522],\n",
       "         [ 1.0517,  0.4103],\n",
       "         [-0.1028, -0.6793],\n",
       "         [-0.4602, -0.6537],\n",
       "         [ 1.2220, -0.2192],\n",
       "         [-0.6260, -0.5492],\n",
       "         [-0.6260, -0.5492],\n",
       "         [-0.6260, -0.5492],\n",
       "         [-1.2957,  0.0522],\n",
       "         [ 0.4601, -0.9644],\n",
       "         [ 1.1754, -1.2647],\n",
       "         [-0.1673,  1.4102]]),\n",
       " tensor([[-0.6260, -0.5492],\n",
       "         [-0.6260, -0.5492],\n",
       "         [-0.4602, -0.6537],\n",
       "         [ 0.9872,  0.3715],\n",
       "         [ 0.9872,  0.3715],\n",
       "         [-0.6260, -0.5492],\n",
       "         [-0.6260, -0.5492],\n",
       "         [ 0.4601, -0.9644],\n",
       "         [ 1.2220, -0.2192],\n",
       "         [ 0.2711,  1.1588],\n",
       "         [-0.8800, -0.5781],\n",
       "         [ 0.2711,  1.1588],\n",
       "         [-0.6260, -0.5492],\n",
       "         [-0.6260, -0.5492],\n",
       "         [ 1.0517,  0.4103],\n",
       "         [-0.8800, -0.5781],\n",
       "         [-0.6260, -0.5492],\n",
       "         [-0.6260, -0.5492],\n",
       "         [ 0.2711,  1.1588],\n",
       "         [-1.2957,  0.0522],\n",
       "         [ 1.0517,  0.4103],\n",
       "         [-0.1028, -0.6793],\n",
       "         [-0.4602, -0.6537],\n",
       "         [ 1.2220, -0.2192],\n",
       "         [ 1.2220, -0.2192],\n",
       "         [-0.6260, -0.5492],\n",
       "         [-0.6260, -0.5492],\n",
       "         [-1.2957,  0.0522],\n",
       "         [ 0.4601, -0.9644],\n",
       "         [ 1.1754, -1.2647],\n",
       "         [-0.1673,  1.4102],\n",
       "         [ 0.2711,  1.1588]]),\n",
       " tensor([[-0.6260, -0.5492],\n",
       "         [-0.4602, -0.6537],\n",
       "         [ 0.9872,  0.3715],\n",
       "         [ 0.9872,  0.3715],\n",
       "         [ 1.0517,  0.4103],\n",
       "         [-0.6260, -0.5492],\n",
       "         [ 0.4601, -0.9644],\n",
       "         [ 1.2220, -0.2192],\n",
       "         [ 0.2711,  1.1588],\n",
       "         [-0.8800, -0.5781],\n",
       "         [ 0.2711,  1.1588],\n",
       "         [ 1.0517,  0.4103],\n",
       "         [-0.6260, -0.5492],\n",
       "         [ 1.0517,  0.4103],\n",
       "         [-0.8800, -0.5781],\n",
       "         [ 1.0517,  0.4103],\n",
       "         [-0.6260, -0.5492],\n",
       "         [ 0.2711,  1.1588],\n",
       "         [-1.2957,  0.0522],\n",
       "         [ 1.0517,  0.4103],\n",
       "         [-0.1028, -0.6793],\n",
       "         [-0.4602, -0.6537],\n",
       "         [ 1.2220, -0.2192],\n",
       "         [ 1.2220, -0.2192],\n",
       "         [ 1.0517,  0.4103],\n",
       "         [-0.6260, -0.5492],\n",
       "         [-1.2957,  0.0522],\n",
       "         [ 0.4601, -0.9644],\n",
       "         [ 1.1754, -1.2647],\n",
       "         [-0.1673,  1.4102],\n",
       "         [ 0.2711,  1.1588],\n",
       "         [ 1.0517,  0.4103]]))"
      ]
     },
     "execution_count": 42,
     "metadata": {},
     "output_type": "execute_result"
    }
   ],
   "source": [
    "#Will give list of tensors exactly as above, this allows us to use different block sizes\n",
    "print(len(torch.unbind(emb, 1)))\n",
    "torch.unbind(emb, 1)"
   ]
  },
  {
   "cell_type": "markdown",
   "metadata": {},
   "source": [
    "While the above works, we should instead use view. In Storage, Pytorch data is stored as 1-D vector, but when we call .view() we manipulate some attributes such that it is interpreted as an N-dimensional vector; but fundamentally no new memory is being created"
   ]
  },
  {
   "cell_type": "code",
   "execution_count": 46,
   "metadata": {},
   "outputs": [
    {
     "data": {
      "text/plain": [
       "(torch.Size([32, 3, 2]),\n",
       " tensor([[-0.6260, -0.5492, -0.6260, -0.5492, -0.6260, -0.5492],\n",
       "         [-0.6260, -0.5492, -0.6260, -0.5492, -0.4602, -0.6537],\n",
       "         [-0.6260, -0.5492, -0.4602, -0.6537,  0.9872,  0.3715],\n",
       "         [-0.4602, -0.6537,  0.9872,  0.3715,  0.9872,  0.3715],\n",
       "         [ 0.9872,  0.3715,  0.9872,  0.3715,  1.0517,  0.4103],\n",
       "         [-0.6260, -0.5492, -0.6260, -0.5492, -0.6260, -0.5492],\n",
       "         [-0.6260, -0.5492, -0.6260, -0.5492,  0.4601, -0.9644],\n",
       "         [-0.6260, -0.5492,  0.4601, -0.9644,  1.2220, -0.2192],\n",
       "         [ 0.4601, -0.9644,  1.2220, -0.2192,  0.2711,  1.1588],\n",
       "         [ 1.2220, -0.2192,  0.2711,  1.1588, -0.8800, -0.5781],\n",
       "         [ 0.2711,  1.1588, -0.8800, -0.5781,  0.2711,  1.1588],\n",
       "         [-0.8800, -0.5781,  0.2711,  1.1588,  1.0517,  0.4103],\n",
       "         [-0.6260, -0.5492, -0.6260, -0.5492, -0.6260, -0.5492],\n",
       "         [-0.6260, -0.5492, -0.6260, -0.5492,  1.0517,  0.4103],\n",
       "         [-0.6260, -0.5492,  1.0517,  0.4103, -0.8800, -0.5781],\n",
       "         [ 1.0517,  0.4103, -0.8800, -0.5781,  1.0517,  0.4103],\n",
       "         [-0.6260, -0.5492, -0.6260, -0.5492, -0.6260, -0.5492],\n",
       "         [-0.6260, -0.5492, -0.6260, -0.5492,  0.2711,  1.1588],\n",
       "         [-0.6260, -0.5492,  0.2711,  1.1588, -1.2957,  0.0522],\n",
       "         [ 0.2711,  1.1588, -1.2957,  0.0522,  1.0517,  0.4103],\n",
       "         [-1.2957,  0.0522,  1.0517,  0.4103, -0.1028, -0.6793],\n",
       "         [ 1.0517,  0.4103, -0.1028, -0.6793, -0.4602, -0.6537],\n",
       "         [-0.1028, -0.6793, -0.4602, -0.6537,  1.2220, -0.2192],\n",
       "         [-0.4602, -0.6537,  1.2220, -0.2192,  1.2220, -0.2192],\n",
       "         [ 1.2220, -0.2192,  1.2220, -0.2192,  1.0517,  0.4103],\n",
       "         [-0.6260, -0.5492, -0.6260, -0.5492, -0.6260, -0.5492],\n",
       "         [-0.6260, -0.5492, -0.6260, -0.5492, -1.2957,  0.0522],\n",
       "         [-0.6260, -0.5492, -1.2957,  0.0522,  0.4601, -0.9644],\n",
       "         [-1.2957,  0.0522,  0.4601, -0.9644,  1.1754, -1.2647],\n",
       "         [ 0.4601, -0.9644,  1.1754, -1.2647, -0.1673,  1.4102],\n",
       "         [ 1.1754, -1.2647, -0.1673,  1.4102,  0.2711,  1.1588],\n",
       "         [-0.1673,  1.4102,  0.2711,  1.1588,  1.0517,  0.4103]]))"
      ]
     },
     "execution_count": 46,
     "metadata": {},
     "output_type": "execute_result"
    }
   ],
   "source": [
    "emb.shape, emb.view(32, 6)"
   ]
  },
  {
   "cell_type": "code",
   "execution_count": 49,
   "metadata": {},
   "outputs": [
    {
     "data": {
      "text/plain": [
       "torch.Size([32, 100])"
      ]
     },
     "execution_count": 49,
     "metadata": {},
     "output_type": "execute_result"
    }
   ],
   "source": [
    "h = torch.tanh(emb.view(-1, 6) @ W1 + b1) #use -1, PyTorch will infer the shape\n",
    "h.shape"
   ]
  },
  {
   "cell_type": "code",
   "execution_count": 51,
   "metadata": {},
   "outputs": [
    {
     "data": {
      "text/plain": [
       "torch.Size([32, 100])"
      ]
     },
     "execution_count": 51,
     "metadata": {},
     "output_type": "execute_result"
    }
   ],
   "source": [
    "(emb.view(-1, 6) @ W1).shape"
   ]
  },
  {
   "cell_type": "code",
   "execution_count": 52,
   "metadata": {},
   "outputs": [
    {
     "data": {
      "text/plain": [
       "torch.Size([100])"
      ]
     },
     "execution_count": 52,
     "metadata": {},
     "output_type": "execute_result"
    }
   ],
   "source": [
    "b1.shape\n",
    "# 32 100\n",
    "# _  100 (aling right) - > 1 100 (create fake dimension) -> row vector -> copied vertically -> 32 100 -> element wise addition "
   ]
  },
  {
   "cell_type": "code",
   "execution_count": 53,
   "metadata": {},
   "outputs": [],
   "source": [
    "W2 = torch.randn((100, 27)); W2.requires_grad = True\n",
    "b2 = torch.randn(27); b2.requires_grad = True"
   ]
  },
  {
   "cell_type": "code",
   "execution_count": 55,
   "metadata": {},
   "outputs": [],
   "source": [
    "logits = h @ W2 + b2"
   ]
  },
  {
   "cell_type": "code",
   "execution_count": 56,
   "metadata": {},
   "outputs": [
    {
     "data": {
      "text/plain": [
       "torch.Size([32, 27])"
      ]
     },
     "execution_count": 56,
     "metadata": {},
     "output_type": "execute_result"
    }
   ],
   "source": [
    "logits.shape"
   ]
  },
  {
   "cell_type": "code",
   "execution_count": 57,
   "metadata": {},
   "outputs": [],
   "source": [
    "counts = logits.exp()\n",
    "probs = counts/(counts.sum(1, keepdim=True))"
   ]
  },
  {
   "cell_type": "code",
   "execution_count": 59,
   "metadata": {},
   "outputs": [
    {
     "data": {
      "text/plain": [
       "(torch.Size([32, 27]),\n",
       " tensor([1.0000, 1.0000, 1.0000, 1.0000, 1.0000, 1.0000, 1.0000, 1.0000, 1.0000,\n",
       "         1.0000, 1.0000, 1.0000, 1.0000, 1.0000, 1.0000, 1.0000, 1.0000, 1.0000,\n",
       "         1.0000, 1.0000, 1.0000, 1.0000, 1.0000, 1.0000, 1.0000, 1.0000, 1.0000,\n",
       "         1.0000, 1.0000, 1.0000, 1.0000, 1.0000], grad_fn=<SumBackward1>))"
      ]
     },
     "execution_count": 59,
     "metadata": {},
     "output_type": "execute_result"
    }
   ],
   "source": [
    "probs.shape, probs.sum(1)"
   ]
  },
  {
   "cell_type": "code",
   "execution_count": 61,
   "metadata": {},
   "outputs": [
    {
     "data": {
      "text/plain": [
       "tensor(15.2789, grad_fn=<NegBackward0>)"
      ]
     },
     "execution_count": 61,
     "metadata": {},
     "output_type": "execute_result"
    }
   ],
   "source": [
    "loss = -probs[torch.arange(len(probs)), Y].log().mean()\n",
    "loss"
   ]
  },
  {
   "cell_type": "code",
   "execution_count": 62,
   "metadata": {},
   "outputs": [],
   "source": [
    "#Cleaning Code"
   ]
  },
  {
   "cell_type": "code",
   "execution_count": 67,
   "metadata": {},
   "outputs": [],
   "source": [
    "g = torch.Generator().manual_seed(2147483647)\n",
    "C = torch.randn((27, 2), generator = g)\n",
    "W1 = torch.randn((6, 100), generator = g)\n",
    "b1 = torch.randn((100), generator= g)\n",
    "W2 = torch.randn((100, 27), generator = g)\n",
    "b2 = torch.randn((27), generator = g)\n",
    "parameters = [C, W1, b1, W2, b2]"
   ]
  },
  {
   "cell_type": "code",
   "execution_count": 68,
   "metadata": {},
   "outputs": [
    {
     "data": {
      "text/plain": [
       "3481"
      ]
     },
     "execution_count": 68,
     "metadata": {},
     "output_type": "execute_result"
    }
   ],
   "source": [
    "sum(p.nelement() for p in parameters)"
   ]
  },
  {
   "cell_type": "code",
   "execution_count": 76,
   "metadata": {},
   "outputs": [
    {
     "name": "stdout",
     "output_type": "stream",
     "text": [
      "tensor(17.7697)\n"
     ]
    }
   ],
   "source": [
    "emb = C[X]\n",
    "h = torch.tanh(emb.view(-1, 6) @ W1 + b1)\n",
    "logits = h @ W2 + b2\n",
    "# counts = logits.exp()\n",
    "# probs = counts/counts.sum(1, keepdim=True)\n",
    "# loss = -probs[torch.arange(len(probs)), Y].log().mean()\n",
    "loss = F.cross_entropy(logits, Y)\n",
    "\n",
    "print(loss)"
   ]
  },
  {
   "cell_type": "code",
   "execution_count": 75,
   "metadata": {},
   "outputs": [
    {
     "data": {
      "text/plain": [
       "tensor(17.7697)"
      ]
     },
     "execution_count": 75,
     "metadata": {},
     "output_type": "execute_result"
    }
   ],
   "source": [
    "F.cross_entropy(logits, Y)"
   ]
  },
  {
   "cell_type": "markdown",
   "metadata": {},
   "source": [
    "Use F.crossentropy, preserves memory by not requiring these intermediate tensors, insteads clusters these operations into fused kernals which very efficiently generate operations. Also much more simpler backward pass to implement (i.e remember in micrograd where we had TanH operation and how using it's derivative was much simpler then breaking down TanH into components and the derivatives of these intermediates)\n",
    "\n",
    "Also has improves numerical behaviour, as explained below..."
   ]
  },
  {
   "cell_type": "code",
   "execution_count": 79,
   "metadata": {},
   "outputs": [
    {
     "data": {
      "text/plain": [
       "(tensor([3.7835e-44, 4.9787e-02, 1.0000e+00,        inf]),\n",
       " tensor([0., 0., 0., nan]))"
      ]
     },
     "execution_count": 79,
     "metadata": {},
     "output_type": "execute_result"
    }
   ],
   "source": [
    "logits = torch.tensor([-100, -3, 0, 100])\n",
    "counts = logits.exp()\n",
    "probs = counts/counts.sum()\n",
    "counts, probs\n",
    "\n",
    "#We cannot pass large logits through this expression"
   ]
  },
  {
   "cell_type": "code",
   "execution_count": 80,
   "metadata": {},
   "outputs": [
    {
     "data": {
      "text/plain": [
       "(tensor([4.5400e-05, 4.9787e-02, 1.0000e+00, 2.2026e+04]),\n",
       " tensor([2.0611e-09, 2.2602e-06, 4.5398e-05, 9.9995e-01]))"
      ]
     },
     "execution_count": 80,
     "metadata": {},
     "output_type": "execute_result"
    }
   ],
   "source": [
    "logits = torch.tensor([-10, -3, 0, 10])\n",
    "counts = logits.exp()\n",
    "probs = counts/counts.sum()\n",
    "counts, probs\n"
   ]
  },
  {
   "cell_type": "code",
   "execution_count": 83,
   "metadata": {},
   "outputs": [
    {
     "data": {
      "text/plain": [
       "(tensor([2.2603e-06, 2.4788e-03, 4.9787e-02, 1.0966e+03]),\n",
       " tensor([2.0611e-09, 2.2602e-06, 4.5398e-05, 9.9995e-01]))"
      ]
     },
     "execution_count": 83,
     "metadata": {},
     "output_type": "execute_result"
    }
   ],
   "source": [
    "logits = torch.tensor([-10, -3, 0, 10]) - 3\n",
    "counts = logits.exp()\n",
    "probs = counts/counts.sum()\n",
    "counts, probs\n",
    "\n",
    "#Interestingly, we can offset logits by an arbitrary constant value, and the probs will remain the same"
   ]
  },
  {
   "cell_type": "code",
   "execution_count": 84,
   "metadata": {},
   "outputs": [
    {
     "data": {
      "text/plain": [
       "(tensor([3.0590e-07, 3.3546e-04, 6.7379e-03, 1.4841e+02]),\n",
       " tensor([2.0611e-09, 2.2602e-06, 4.5398e-05, 9.9995e-01]))"
      ]
     },
     "execution_count": 84,
     "metadata": {},
     "output_type": "execute_result"
    }
   ],
   "source": [
    "#F.cross entropy will internally subtract it by the maximum value in the tensor\n",
    "\n",
    "logits = torch.tensor([-10, -3, 0, 10]) - 5\n",
    "counts = logits.exp()\n",
    "probs = counts/counts.sum()\n",
    "counts, probs\n"
   ]
  },
  {
   "cell_type": "code",
   "execution_count": 85,
   "metadata": {},
   "outputs": [],
   "source": [
    "for p in parameters:\n",
    "    p.requires_grad = True"
   ]
  },
  {
   "cell_type": "code",
   "execution_count": 88,
   "metadata": {},
   "outputs": [
    {
     "name": "stdout",
     "output_type": "stream",
     "text": [
      "0.255603164434433\n"
     ]
    }
   ],
   "source": [
    "for _ in range(1000):\n",
    "    #Forward pass\n",
    "    emb = C[X]\n",
    "    h = torch.tanh(emb.view(-1, 6) @ W1 + b1)\n",
    "    logits = h @ W2 + b2\n",
    "    loss = F.cross_entropy(logits, Y)\n",
    "\n",
    "    for p in parameters:\n",
    "        p.grad = None\n",
    "\n",
    "\n",
    "    loss.backward()\n",
    "\n",
    "    for p in parameters:\n",
    "        p.data -= p.grad*0.1\n",
    "\n",
    "\n",
    "print(loss.item())"
   ]
  },
  {
   "cell_type": "markdown",
   "metadata": {},
   "source": [
    "Getting good performance, since have 3000 parameters, and 32 examples, so overfitting on the batch of data"
   ]
  },
  {
   "cell_type": "code",
   "execution_count": 89,
   "metadata": {},
   "outputs": [
    {
     "data": {
      "text/plain": [
       "torch.return_types.max(\n",
       "values=tensor([13.4138, 17.9644, 20.6772, 20.7267, 16.8571, 13.4138, 16.1147, 14.2718,\n",
       "        16.0140, 18.5009, 16.0738, 21.0530, 13.4138, 17.2577, 17.2659, 20.2016,\n",
       "        13.4138, 16.7053, 15.2578, 17.2021, 18.6942, 16.1057, 10.9961, 10.7943,\n",
       "        15.5882, 13.4138, 16.2897, 17.0882, 12.8241, 16.2913, 19.2259, 16.1885],\n",
       "       grad_fn=<MaxBackward0>),\n",
       "indices=tensor([19, 13, 13,  1,  0, 19, 12,  9, 22,  9,  1,  0, 19, 22,  1,  0, 19, 19,\n",
       "         1,  2,  5, 12, 12,  1,  0, 19, 15, 16,  8,  9,  1,  0]))"
      ]
     },
     "execution_count": 89,
     "metadata": {},
     "output_type": "execute_result"
    }
   ],
   "source": [
    "logits.max(1)"
   ]
  },
  {
   "cell_type": "code",
   "execution_count": 91,
   "metadata": {},
   "outputs": [
    {
     "data": {
      "text/plain": [
       "tensor([ 5, 13, 13,  1,  0, 15, 12,  9, 22,  9,  1,  0,  1, 22,  1,  0,  9, 19,\n",
       "         1,  2,  5, 12, 12,  1,  0, 19, 15, 16,  8,  9,  1,  0])"
      ]
     },
     "execution_count": 91,
     "metadata": {},
     "output_type": "execute_result"
    }
   ],
   "source": [
    "Y"
   ]
  },
  {
   "cell_type": "markdown",
   "metadata": {},
   "source": [
    "Doesnt get perfect performance because in the training set ... can lead e,s, a, or o"
   ]
  },
  {
   "cell_type": "code",
   "execution_count": 94,
   "metadata": {},
   "outputs": [],
   "source": [
    "#build dataset\n",
    "\n",
    "block_size = 3 #Context Length: How many characters dp we take to predict the next one?\n",
    "X, Y = [], []\n",
    "for w in words:\n",
    "\n",
    "    context = [0] * block_size\n",
    "    for ch in w + \".\":\n",
    "        ix = stoi[ch]\n",
    "        X.append(context)\n",
    "        Y.append(ix)\n",
    "        context = context[1:] + [ix] #crop and append\n",
    "\n",
    "X = torch.tensor(X) \n",
    "Y = torch.tensor(Y)"
   ]
  },
  {
   "cell_type": "code",
   "execution_count": 95,
   "metadata": {},
   "outputs": [
    {
     "data": {
      "text/plain": [
       "torch.Size([228146, 3])"
      ]
     },
     "execution_count": 95,
     "metadata": {},
     "output_type": "execute_result"
    }
   ],
   "source": [
    "X.shape"
   ]
  },
  {
   "cell_type": "code",
   "execution_count": 129,
   "metadata": {},
   "outputs": [],
   "source": [
    "g = torch.Generator().manual_seed(2147483647)\n",
    "C = torch.randn((27, 2), generator = g)\n",
    "W1 = torch.randn((6, 100), generator = g)\n",
    "b1 = torch.randn((100), generator= g)\n",
    "W2 = torch.randn((100, 27), generator = g)\n",
    "b2 = torch.randn((27), generator = g)\n",
    "parameters = [C, W1, b1, W2, b2]"
   ]
  },
  {
   "cell_type": "code",
   "execution_count": 130,
   "metadata": {},
   "outputs": [],
   "source": [
    "for p in parameters:\n",
    "    p.requires_grad = True"
   ]
  },
  {
   "cell_type": "code",
   "execution_count": 114,
   "metadata": {},
   "outputs": [
    {
     "data": {
      "text/plain": [
       "tensor([0.0010, 0.0010, 0.0010, 0.0010, 0.0010, 0.0010, 0.0010, 0.0010, 0.0011,\n",
       "        0.0011, 0.0011, 0.0011, 0.0011, 0.0011, 0.0011, 0.0011, 0.0011, 0.0011,\n",
       "        0.0011, 0.0011, 0.0011, 0.0012, 0.0012, 0.0012, 0.0012, 0.0012, 0.0012,\n",
       "        0.0012, 0.0012, 0.0012, 0.0012, 0.0012, 0.0012, 0.0013, 0.0013, 0.0013,\n",
       "        0.0013, 0.0013, 0.0013, 0.0013, 0.0013, 0.0013, 0.0013, 0.0013, 0.0014,\n",
       "        0.0014, 0.0014, 0.0014, 0.0014, 0.0014, 0.0014, 0.0014, 0.0014, 0.0014,\n",
       "        0.0015, 0.0015, 0.0015, 0.0015, 0.0015, 0.0015, 0.0015, 0.0015, 0.0015,\n",
       "        0.0015, 0.0016, 0.0016, 0.0016, 0.0016, 0.0016, 0.0016, 0.0016, 0.0016,\n",
       "        0.0016, 0.0017, 0.0017, 0.0017, 0.0017, 0.0017, 0.0017, 0.0017, 0.0017,\n",
       "        0.0018, 0.0018, 0.0018, 0.0018, 0.0018, 0.0018, 0.0018, 0.0018, 0.0019,\n",
       "        0.0019, 0.0019, 0.0019, 0.0019, 0.0019, 0.0019, 0.0019, 0.0020, 0.0020,\n",
       "        0.0020, 0.0020, 0.0020, 0.0020, 0.0020, 0.0021, 0.0021, 0.0021, 0.0021,\n",
       "        0.0021, 0.0021, 0.0021, 0.0022, 0.0022, 0.0022, 0.0022, 0.0022, 0.0022,\n",
       "        0.0022, 0.0023, 0.0023, 0.0023, 0.0023, 0.0023, 0.0023, 0.0024, 0.0024,\n",
       "        0.0024, 0.0024, 0.0024, 0.0024, 0.0025, 0.0025, 0.0025, 0.0025, 0.0025,\n",
       "        0.0025, 0.0026, 0.0026, 0.0026, 0.0026, 0.0026, 0.0027, 0.0027, 0.0027,\n",
       "        0.0027, 0.0027, 0.0027, 0.0028, 0.0028, 0.0028, 0.0028, 0.0028, 0.0029,\n",
       "        0.0029, 0.0029, 0.0029, 0.0029, 0.0030, 0.0030, 0.0030, 0.0030, 0.0030,\n",
       "        0.0031, 0.0031, 0.0031, 0.0031, 0.0032, 0.0032, 0.0032, 0.0032, 0.0032,\n",
       "        0.0033, 0.0033, 0.0033, 0.0033, 0.0034, 0.0034, 0.0034, 0.0034, 0.0034,\n",
       "        0.0035, 0.0035, 0.0035, 0.0035, 0.0036, 0.0036, 0.0036, 0.0036, 0.0037,\n",
       "        0.0037, 0.0037, 0.0037, 0.0038, 0.0038, 0.0038, 0.0039, 0.0039, 0.0039,\n",
       "        0.0039, 0.0040, 0.0040, 0.0040, 0.0040, 0.0041, 0.0041, 0.0041, 0.0042,\n",
       "        0.0042, 0.0042, 0.0042, 0.0043, 0.0043, 0.0043, 0.0044, 0.0044, 0.0044,\n",
       "        0.0045, 0.0045, 0.0045, 0.0045, 0.0046, 0.0046, 0.0046, 0.0047, 0.0047,\n",
       "        0.0047, 0.0048, 0.0048, 0.0048, 0.0049, 0.0049, 0.0049, 0.0050, 0.0050,\n",
       "        0.0050, 0.0051, 0.0051, 0.0051, 0.0052, 0.0052, 0.0053, 0.0053, 0.0053,\n",
       "        0.0054, 0.0054, 0.0054, 0.0055, 0.0055, 0.0056, 0.0056, 0.0056, 0.0057,\n",
       "        0.0057, 0.0058, 0.0058, 0.0058, 0.0059, 0.0059, 0.0060, 0.0060, 0.0060,\n",
       "        0.0061, 0.0061, 0.0062, 0.0062, 0.0062, 0.0063, 0.0063, 0.0064, 0.0064,\n",
       "        0.0065, 0.0065, 0.0066, 0.0066, 0.0067, 0.0067, 0.0067, 0.0068, 0.0068,\n",
       "        0.0069, 0.0069, 0.0070, 0.0070, 0.0071, 0.0071, 0.0072, 0.0072, 0.0073,\n",
       "        0.0073, 0.0074, 0.0074, 0.0075, 0.0075, 0.0076, 0.0076, 0.0077, 0.0077,\n",
       "        0.0078, 0.0079, 0.0079, 0.0080, 0.0080, 0.0081, 0.0081, 0.0082, 0.0082,\n",
       "        0.0083, 0.0084, 0.0084, 0.0085, 0.0085, 0.0086, 0.0086, 0.0087, 0.0088,\n",
       "        0.0088, 0.0089, 0.0090, 0.0090, 0.0091, 0.0091, 0.0092, 0.0093, 0.0093,\n",
       "        0.0094, 0.0095, 0.0095, 0.0096, 0.0097, 0.0097, 0.0098, 0.0099, 0.0099,\n",
       "        0.0100, 0.0101, 0.0101, 0.0102, 0.0103, 0.0104, 0.0104, 0.0105, 0.0106,\n",
       "        0.0106, 0.0107, 0.0108, 0.0109, 0.0109, 0.0110, 0.0111, 0.0112, 0.0112,\n",
       "        0.0113, 0.0114, 0.0115, 0.0116, 0.0116, 0.0117, 0.0118, 0.0119, 0.0120,\n",
       "        0.0121, 0.0121, 0.0122, 0.0123, 0.0124, 0.0125, 0.0126, 0.0127, 0.0127,\n",
       "        0.0128, 0.0129, 0.0130, 0.0131, 0.0132, 0.0133, 0.0134, 0.0135, 0.0136,\n",
       "        0.0137, 0.0137, 0.0138, 0.0139, 0.0140, 0.0141, 0.0142, 0.0143, 0.0144,\n",
       "        0.0145, 0.0146, 0.0147, 0.0148, 0.0149, 0.0150, 0.0151, 0.0152, 0.0154,\n",
       "        0.0155, 0.0156, 0.0157, 0.0158, 0.0159, 0.0160, 0.0161, 0.0162, 0.0163,\n",
       "        0.0165, 0.0166, 0.0167, 0.0168, 0.0169, 0.0170, 0.0171, 0.0173, 0.0174,\n",
       "        0.0175, 0.0176, 0.0178, 0.0179, 0.0180, 0.0181, 0.0182, 0.0184, 0.0185,\n",
       "        0.0186, 0.0188, 0.0189, 0.0190, 0.0192, 0.0193, 0.0194, 0.0196, 0.0197,\n",
       "        0.0198, 0.0200, 0.0201, 0.0202, 0.0204, 0.0205, 0.0207, 0.0208, 0.0210,\n",
       "        0.0211, 0.0212, 0.0214, 0.0215, 0.0217, 0.0218, 0.0220, 0.0221, 0.0223,\n",
       "        0.0225, 0.0226, 0.0228, 0.0229, 0.0231, 0.0232, 0.0234, 0.0236, 0.0237,\n",
       "        0.0239, 0.0241, 0.0242, 0.0244, 0.0246, 0.0247, 0.0249, 0.0251, 0.0253,\n",
       "        0.0254, 0.0256, 0.0258, 0.0260, 0.0261, 0.0263, 0.0265, 0.0267, 0.0269,\n",
       "        0.0271, 0.0273, 0.0274, 0.0276, 0.0278, 0.0280, 0.0282, 0.0284, 0.0286,\n",
       "        0.0288, 0.0290, 0.0292, 0.0294, 0.0296, 0.0298, 0.0300, 0.0302, 0.0304,\n",
       "        0.0307, 0.0309, 0.0311, 0.0313, 0.0315, 0.0317, 0.0320, 0.0322, 0.0324,\n",
       "        0.0326, 0.0328, 0.0331, 0.0333, 0.0335, 0.0338, 0.0340, 0.0342, 0.0345,\n",
       "        0.0347, 0.0350, 0.0352, 0.0354, 0.0357, 0.0359, 0.0362, 0.0364, 0.0367,\n",
       "        0.0369, 0.0372, 0.0375, 0.0377, 0.0380, 0.0382, 0.0385, 0.0388, 0.0390,\n",
       "        0.0393, 0.0396, 0.0399, 0.0401, 0.0404, 0.0407, 0.0410, 0.0413, 0.0416,\n",
       "        0.0418, 0.0421, 0.0424, 0.0427, 0.0430, 0.0433, 0.0436, 0.0439, 0.0442,\n",
       "        0.0445, 0.0448, 0.0451, 0.0455, 0.0458, 0.0461, 0.0464, 0.0467, 0.0471,\n",
       "        0.0474, 0.0477, 0.0480, 0.0484, 0.0487, 0.0491, 0.0494, 0.0497, 0.0501,\n",
       "        0.0504, 0.0508, 0.0511, 0.0515, 0.0518, 0.0522, 0.0526, 0.0529, 0.0533,\n",
       "        0.0537, 0.0540, 0.0544, 0.0548, 0.0552, 0.0556, 0.0559, 0.0563, 0.0567,\n",
       "        0.0571, 0.0575, 0.0579, 0.0583, 0.0587, 0.0591, 0.0595, 0.0599, 0.0604,\n",
       "        0.0608, 0.0612, 0.0616, 0.0621, 0.0625, 0.0629, 0.0634, 0.0638, 0.0642,\n",
       "        0.0647, 0.0651, 0.0656, 0.0660, 0.0665, 0.0670, 0.0674, 0.0679, 0.0684,\n",
       "        0.0688, 0.0693, 0.0698, 0.0703, 0.0708, 0.0713, 0.0718, 0.0723, 0.0728,\n",
       "        0.0733, 0.0738, 0.0743, 0.0748, 0.0753, 0.0758, 0.0764, 0.0769, 0.0774,\n",
       "        0.0780, 0.0785, 0.0790, 0.0796, 0.0802, 0.0807, 0.0813, 0.0818, 0.0824,\n",
       "        0.0830, 0.0835, 0.0841, 0.0847, 0.0853, 0.0859, 0.0865, 0.0871, 0.0877,\n",
       "        0.0883, 0.0889, 0.0895, 0.0901, 0.0908, 0.0914, 0.0920, 0.0927, 0.0933,\n",
       "        0.0940, 0.0946, 0.0953, 0.0959, 0.0966, 0.0973, 0.0979, 0.0986, 0.0993,\n",
       "        0.1000, 0.1007, 0.1014, 0.1021, 0.1028, 0.1035, 0.1042, 0.1050, 0.1057,\n",
       "        0.1064, 0.1072, 0.1079, 0.1087, 0.1094, 0.1102, 0.1109, 0.1117, 0.1125,\n",
       "        0.1133, 0.1140, 0.1148, 0.1156, 0.1164, 0.1172, 0.1181, 0.1189, 0.1197,\n",
       "        0.1205, 0.1214, 0.1222, 0.1231, 0.1239, 0.1248, 0.1256, 0.1265, 0.1274,\n",
       "        0.1283, 0.1292, 0.1301, 0.1310, 0.1319, 0.1328, 0.1337, 0.1346, 0.1356,\n",
       "        0.1365, 0.1374, 0.1384, 0.1394, 0.1403, 0.1413, 0.1423, 0.1433, 0.1443,\n",
       "        0.1453, 0.1463, 0.1473, 0.1483, 0.1493, 0.1504, 0.1514, 0.1525, 0.1535,\n",
       "        0.1546, 0.1557, 0.1567, 0.1578, 0.1589, 0.1600, 0.1611, 0.1623, 0.1634,\n",
       "        0.1645, 0.1657, 0.1668, 0.1680, 0.1691, 0.1703, 0.1715, 0.1727, 0.1739,\n",
       "        0.1751, 0.1763, 0.1775, 0.1788, 0.1800, 0.1812, 0.1825, 0.1838, 0.1850,\n",
       "        0.1863, 0.1876, 0.1889, 0.1902, 0.1916, 0.1929, 0.1942, 0.1956, 0.1969,\n",
       "        0.1983, 0.1997, 0.2010, 0.2024, 0.2038, 0.2053, 0.2067, 0.2081, 0.2096,\n",
       "        0.2110, 0.2125, 0.2140, 0.2154, 0.2169, 0.2184, 0.2200, 0.2215, 0.2230,\n",
       "        0.2246, 0.2261, 0.2277, 0.2293, 0.2309, 0.2325, 0.2341, 0.2357, 0.2373,\n",
       "        0.2390, 0.2406, 0.2423, 0.2440, 0.2457, 0.2474, 0.2491, 0.2508, 0.2526,\n",
       "        0.2543, 0.2561, 0.2579, 0.2597, 0.2615, 0.2633, 0.2651, 0.2669, 0.2688,\n",
       "        0.2707, 0.2725, 0.2744, 0.2763, 0.2783, 0.2802, 0.2821, 0.2841, 0.2861,\n",
       "        0.2880, 0.2900, 0.2921, 0.2941, 0.2961, 0.2982, 0.3002, 0.3023, 0.3044,\n",
       "        0.3065, 0.3087, 0.3108, 0.3130, 0.3151, 0.3173, 0.3195, 0.3217, 0.3240,\n",
       "        0.3262, 0.3285, 0.3308, 0.3331, 0.3354, 0.3377, 0.3400, 0.3424, 0.3448,\n",
       "        0.3472, 0.3496, 0.3520, 0.3544, 0.3569, 0.3594, 0.3619, 0.3644, 0.3669,\n",
       "        0.3695, 0.3720, 0.3746, 0.3772, 0.3798, 0.3825, 0.3851, 0.3878, 0.3905,\n",
       "        0.3932, 0.3959, 0.3987, 0.4014, 0.4042, 0.4070, 0.4098, 0.4127, 0.4155,\n",
       "        0.4184, 0.4213, 0.4243, 0.4272, 0.4302, 0.4331, 0.4362, 0.4392, 0.4422,\n",
       "        0.4453, 0.4484, 0.4515, 0.4546, 0.4578, 0.4610, 0.4642, 0.4674, 0.4706,\n",
       "        0.4739, 0.4772, 0.4805, 0.4838, 0.4872, 0.4906, 0.4940, 0.4974, 0.5008,\n",
       "        0.5043, 0.5078, 0.5113, 0.5149, 0.5185, 0.5221, 0.5257, 0.5293, 0.5330,\n",
       "        0.5367, 0.5404, 0.5442, 0.5479, 0.5517, 0.5556, 0.5594, 0.5633, 0.5672,\n",
       "        0.5712, 0.5751, 0.5791, 0.5831, 0.5872, 0.5913, 0.5954, 0.5995, 0.6036,\n",
       "        0.6078, 0.6120, 0.6163, 0.6206, 0.6249, 0.6292, 0.6336, 0.6380, 0.6424,\n",
       "        0.6469, 0.6513, 0.6559, 0.6604, 0.6650, 0.6696, 0.6743, 0.6789, 0.6837,\n",
       "        0.6884, 0.6932, 0.6980, 0.7028, 0.7077, 0.7126, 0.7176, 0.7225, 0.7275,\n",
       "        0.7326, 0.7377, 0.7428, 0.7480, 0.7531, 0.7584, 0.7636, 0.7689, 0.7743,\n",
       "        0.7796, 0.7850, 0.7905, 0.7960, 0.8015, 0.8071, 0.8127, 0.8183, 0.8240,\n",
       "        0.8297, 0.8355, 0.8412, 0.8471, 0.8530, 0.8589, 0.8648, 0.8708, 0.8769,\n",
       "        0.8830, 0.8891, 0.8953, 0.9015, 0.9077, 0.9140, 0.9204, 0.9268, 0.9332,\n",
       "        0.9397, 0.9462, 0.9528, 0.9594, 0.9660, 0.9727, 0.9795, 0.9863, 0.9931,\n",
       "        1.0000])"
      ]
     },
     "execution_count": 114,
     "metadata": {},
     "output_type": "execute_result"
    }
   ],
   "source": [
    "lre = torch.linspace(-3, 0, 1000)\n",
    "lrs = 10**lre\n",
    "lrs"
   ]
  },
  {
   "cell_type": "code",
   "execution_count": 108,
   "metadata": {},
   "outputs": [
    {
     "name": "stdout",
     "output_type": "stream",
     "text": [
      "2.221015453338623\n"
     ]
    }
   ],
   "source": [
    "for _ in range(100):\n",
    "\n",
    "    #minibatch (avoids excess computational work of forwarding through all 200000 examples)\n",
    "    ix = torch.randint(0, X.shape[0], (32,))\n",
    "\n",
    "    #Forward pass\n",
    "    emb = C[X[ix]]\n",
    "    h = torch.tanh(emb.view(-1, 6) @ W1 + b1)\n",
    "    logits = h @ W2 + b2\n",
    "    loss = F.cross_entropy(logits, Y[ix])\n",
    "\n",
    "    for p in parameters:\n",
    "        p.grad = None\n",
    "    \n",
    "    loss.backward()\n",
    "\n",
    "    for p in parameters:\n",
    "        p.data -= p.grad*0.1\n",
    "\n",
    "print(loss.item())"
   ]
  },
  {
   "cell_type": "markdown",
   "metadata": {},
   "source": [
    "minibatch allows us to run many examples fast and decrease the loss much faster\n",
    "\n",
    "However, the quality of the gradients is lower, so the direction is not as reliable (is not the actual direction) but the gradient direction is good enough that it is useful. It is much better to have aprox. gradient with multiple steps, then evaluate the exact gradient and take fewer steps"
   ]
  },
  {
   "cell_type": "code",
   "execution_count": 109,
   "metadata": {},
   "outputs": [
    {
     "name": "stdout",
     "output_type": "stream",
     "text": [
      "tensor(2.4512, grad_fn=<NllLossBackward0>)\n"
     ]
    }
   ],
   "source": [
    "emb = C[X]\n",
    "h = torch.tanh(emb.view(-1, 6) @ W1 + b1)\n",
    "logits = h @ W2 + b2\n",
    "loss = F.cross_entropy(logits, Y)\n",
    "print(loss)"
   ]
  },
  {
   "cell_type": "markdown",
   "metadata": {},
   "source": [
    "Finding a good LR,\n",
    "\n",
    "- low end: should be decreasing at a slow rate\n",
    "- high end: where loss explodes (i.e unstable, goes up and down quite a bit)"
   ]
  },
  {
   "cell_type": "code",
   "execution_count": 126,
   "metadata": {},
   "outputs": [
    {
     "data": {
      "text/plain": [
       "tensor([0.0010, 0.0010, 0.0010, 0.0010, 0.0010, 0.0010, 0.0010, 0.0010, 0.0011,\n",
       "        0.0011, 0.0011, 0.0011, 0.0011, 0.0011, 0.0011, 0.0011, 0.0011, 0.0011,\n",
       "        0.0011, 0.0011, 0.0011, 0.0012, 0.0012, 0.0012, 0.0012, 0.0012, 0.0012,\n",
       "        0.0012, 0.0012, 0.0012, 0.0012, 0.0012, 0.0012, 0.0013, 0.0013, 0.0013,\n",
       "        0.0013, 0.0013, 0.0013, 0.0013, 0.0013, 0.0013, 0.0013, 0.0013, 0.0014,\n",
       "        0.0014, 0.0014, 0.0014, 0.0014, 0.0014, 0.0014, 0.0014, 0.0014, 0.0014,\n",
       "        0.0015, 0.0015, 0.0015, 0.0015, 0.0015, 0.0015, 0.0015, 0.0015, 0.0015,\n",
       "        0.0015, 0.0016, 0.0016, 0.0016, 0.0016, 0.0016, 0.0016, 0.0016, 0.0016,\n",
       "        0.0016, 0.0017, 0.0017, 0.0017, 0.0017, 0.0017, 0.0017, 0.0017, 0.0017,\n",
       "        0.0018, 0.0018, 0.0018, 0.0018, 0.0018, 0.0018, 0.0018, 0.0018, 0.0019,\n",
       "        0.0019, 0.0019, 0.0019, 0.0019, 0.0019, 0.0019, 0.0019, 0.0020, 0.0020,\n",
       "        0.0020, 0.0020, 0.0020, 0.0020, 0.0020, 0.0021, 0.0021, 0.0021, 0.0021,\n",
       "        0.0021, 0.0021, 0.0021, 0.0022, 0.0022, 0.0022, 0.0022, 0.0022, 0.0022,\n",
       "        0.0022, 0.0023, 0.0023, 0.0023, 0.0023, 0.0023, 0.0023, 0.0024, 0.0024,\n",
       "        0.0024, 0.0024, 0.0024, 0.0024, 0.0025, 0.0025, 0.0025, 0.0025, 0.0025,\n",
       "        0.0025, 0.0026, 0.0026, 0.0026, 0.0026, 0.0026, 0.0027, 0.0027, 0.0027,\n",
       "        0.0027, 0.0027, 0.0027, 0.0028, 0.0028, 0.0028, 0.0028, 0.0028, 0.0029,\n",
       "        0.0029, 0.0029, 0.0029, 0.0029, 0.0030, 0.0030, 0.0030, 0.0030, 0.0030,\n",
       "        0.0031, 0.0031, 0.0031, 0.0031, 0.0032, 0.0032, 0.0032, 0.0032, 0.0032,\n",
       "        0.0033, 0.0033, 0.0033, 0.0033, 0.0034, 0.0034, 0.0034, 0.0034, 0.0034,\n",
       "        0.0035, 0.0035, 0.0035, 0.0035, 0.0036, 0.0036, 0.0036, 0.0036, 0.0037,\n",
       "        0.0037, 0.0037, 0.0037, 0.0038, 0.0038, 0.0038, 0.0039, 0.0039, 0.0039,\n",
       "        0.0039, 0.0040, 0.0040, 0.0040, 0.0040, 0.0041, 0.0041, 0.0041, 0.0042,\n",
       "        0.0042, 0.0042, 0.0042, 0.0043, 0.0043, 0.0043, 0.0044, 0.0044, 0.0044,\n",
       "        0.0045, 0.0045, 0.0045, 0.0045, 0.0046, 0.0046, 0.0046, 0.0047, 0.0047,\n",
       "        0.0047, 0.0048, 0.0048, 0.0048, 0.0049, 0.0049, 0.0049, 0.0050, 0.0050,\n",
       "        0.0050, 0.0051, 0.0051, 0.0051, 0.0052, 0.0052, 0.0053, 0.0053, 0.0053,\n",
       "        0.0054, 0.0054, 0.0054, 0.0055, 0.0055, 0.0056, 0.0056, 0.0056, 0.0057,\n",
       "        0.0057, 0.0058, 0.0058, 0.0058, 0.0059, 0.0059, 0.0060, 0.0060, 0.0060,\n",
       "        0.0061, 0.0061, 0.0062, 0.0062, 0.0062, 0.0063, 0.0063, 0.0064, 0.0064,\n",
       "        0.0065, 0.0065, 0.0066, 0.0066, 0.0067, 0.0067, 0.0067, 0.0068, 0.0068,\n",
       "        0.0069, 0.0069, 0.0070, 0.0070, 0.0071, 0.0071, 0.0072, 0.0072, 0.0073,\n",
       "        0.0073, 0.0074, 0.0074, 0.0075, 0.0075, 0.0076, 0.0076, 0.0077, 0.0077,\n",
       "        0.0078, 0.0079, 0.0079, 0.0080, 0.0080, 0.0081, 0.0081, 0.0082, 0.0082,\n",
       "        0.0083, 0.0084, 0.0084, 0.0085, 0.0085, 0.0086, 0.0086, 0.0087, 0.0088,\n",
       "        0.0088, 0.0089, 0.0090, 0.0090, 0.0091, 0.0091, 0.0092, 0.0093, 0.0093,\n",
       "        0.0094, 0.0095, 0.0095, 0.0096, 0.0097, 0.0097, 0.0098, 0.0099, 0.0099,\n",
       "        0.0100, 0.0101, 0.0101, 0.0102, 0.0103, 0.0104, 0.0104, 0.0105, 0.0106,\n",
       "        0.0106, 0.0107, 0.0108, 0.0109, 0.0109, 0.0110, 0.0111, 0.0112, 0.0112,\n",
       "        0.0113, 0.0114, 0.0115, 0.0116, 0.0116, 0.0117, 0.0118, 0.0119, 0.0120,\n",
       "        0.0121, 0.0121, 0.0122, 0.0123, 0.0124, 0.0125, 0.0126, 0.0127, 0.0127,\n",
       "        0.0128, 0.0129, 0.0130, 0.0131, 0.0132, 0.0133, 0.0134, 0.0135, 0.0136,\n",
       "        0.0137, 0.0137, 0.0138, 0.0139, 0.0140, 0.0141, 0.0142, 0.0143, 0.0144,\n",
       "        0.0145, 0.0146, 0.0147, 0.0148, 0.0149, 0.0150, 0.0151, 0.0152, 0.0154,\n",
       "        0.0155, 0.0156, 0.0157, 0.0158, 0.0159, 0.0160, 0.0161, 0.0162, 0.0163,\n",
       "        0.0165, 0.0166, 0.0167, 0.0168, 0.0169, 0.0170, 0.0171, 0.0173, 0.0174,\n",
       "        0.0175, 0.0176, 0.0178, 0.0179, 0.0180, 0.0181, 0.0182, 0.0184, 0.0185,\n",
       "        0.0186, 0.0188, 0.0189, 0.0190, 0.0192, 0.0193, 0.0194, 0.0196, 0.0197,\n",
       "        0.0198, 0.0200, 0.0201, 0.0202, 0.0204, 0.0205, 0.0207, 0.0208, 0.0210,\n",
       "        0.0211, 0.0212, 0.0214, 0.0215, 0.0217, 0.0218, 0.0220, 0.0221, 0.0223,\n",
       "        0.0225, 0.0226, 0.0228, 0.0229, 0.0231, 0.0232, 0.0234, 0.0236, 0.0237,\n",
       "        0.0239, 0.0241, 0.0242, 0.0244, 0.0246, 0.0247, 0.0249, 0.0251, 0.0253,\n",
       "        0.0254, 0.0256, 0.0258, 0.0260, 0.0261, 0.0263, 0.0265, 0.0267, 0.0269,\n",
       "        0.0271, 0.0273, 0.0274, 0.0276, 0.0278, 0.0280, 0.0282, 0.0284, 0.0286,\n",
       "        0.0288, 0.0290, 0.0292, 0.0294, 0.0296, 0.0298, 0.0300, 0.0302, 0.0304,\n",
       "        0.0307, 0.0309, 0.0311, 0.0313, 0.0315, 0.0317, 0.0320, 0.0322, 0.0324,\n",
       "        0.0326, 0.0328, 0.0331, 0.0333, 0.0335, 0.0338, 0.0340, 0.0342, 0.0345,\n",
       "        0.0347, 0.0350, 0.0352, 0.0354, 0.0357, 0.0359, 0.0362, 0.0364, 0.0367,\n",
       "        0.0369, 0.0372, 0.0375, 0.0377, 0.0380, 0.0382, 0.0385, 0.0388, 0.0390,\n",
       "        0.0393, 0.0396, 0.0399, 0.0401, 0.0404, 0.0407, 0.0410, 0.0413, 0.0416,\n",
       "        0.0418, 0.0421, 0.0424, 0.0427, 0.0430, 0.0433, 0.0436, 0.0439, 0.0442,\n",
       "        0.0445, 0.0448, 0.0451, 0.0455, 0.0458, 0.0461, 0.0464, 0.0467, 0.0471,\n",
       "        0.0474, 0.0477, 0.0480, 0.0484, 0.0487, 0.0491, 0.0494, 0.0497, 0.0501,\n",
       "        0.0504, 0.0508, 0.0511, 0.0515, 0.0518, 0.0522, 0.0526, 0.0529, 0.0533,\n",
       "        0.0537, 0.0540, 0.0544, 0.0548, 0.0552, 0.0556, 0.0559, 0.0563, 0.0567,\n",
       "        0.0571, 0.0575, 0.0579, 0.0583, 0.0587, 0.0591, 0.0595, 0.0599, 0.0604,\n",
       "        0.0608, 0.0612, 0.0616, 0.0621, 0.0625, 0.0629, 0.0634, 0.0638, 0.0642,\n",
       "        0.0647, 0.0651, 0.0656, 0.0660, 0.0665, 0.0670, 0.0674, 0.0679, 0.0684,\n",
       "        0.0688, 0.0693, 0.0698, 0.0703, 0.0708, 0.0713, 0.0718, 0.0723, 0.0728,\n",
       "        0.0733, 0.0738, 0.0743, 0.0748, 0.0753, 0.0758, 0.0764, 0.0769, 0.0774,\n",
       "        0.0780, 0.0785, 0.0790, 0.0796, 0.0802, 0.0807, 0.0813, 0.0818, 0.0824,\n",
       "        0.0830, 0.0835, 0.0841, 0.0847, 0.0853, 0.0859, 0.0865, 0.0871, 0.0877,\n",
       "        0.0883, 0.0889, 0.0895, 0.0901, 0.0908, 0.0914, 0.0920, 0.0927, 0.0933,\n",
       "        0.0940, 0.0946, 0.0953, 0.0959, 0.0966, 0.0973, 0.0979, 0.0986, 0.0993,\n",
       "        0.1000, 0.1007, 0.1014, 0.1021, 0.1028, 0.1035, 0.1042, 0.1050, 0.1057,\n",
       "        0.1064, 0.1072, 0.1079, 0.1087, 0.1094, 0.1102, 0.1109, 0.1117, 0.1125,\n",
       "        0.1133, 0.1140, 0.1148, 0.1156, 0.1164, 0.1172, 0.1181, 0.1189, 0.1197,\n",
       "        0.1205, 0.1214, 0.1222, 0.1231, 0.1239, 0.1248, 0.1256, 0.1265, 0.1274,\n",
       "        0.1283, 0.1292, 0.1301, 0.1310, 0.1319, 0.1328, 0.1337, 0.1346, 0.1356,\n",
       "        0.1365, 0.1374, 0.1384, 0.1394, 0.1403, 0.1413, 0.1423, 0.1433, 0.1443,\n",
       "        0.1453, 0.1463, 0.1473, 0.1483, 0.1493, 0.1504, 0.1514, 0.1525, 0.1535,\n",
       "        0.1546, 0.1557, 0.1567, 0.1578, 0.1589, 0.1600, 0.1611, 0.1623, 0.1634,\n",
       "        0.1645, 0.1657, 0.1668, 0.1680, 0.1691, 0.1703, 0.1715, 0.1727, 0.1739,\n",
       "        0.1751, 0.1763, 0.1775, 0.1788, 0.1800, 0.1812, 0.1825, 0.1838, 0.1850,\n",
       "        0.1863, 0.1876, 0.1889, 0.1902, 0.1916, 0.1929, 0.1942, 0.1956, 0.1969,\n",
       "        0.1983, 0.1997, 0.2010, 0.2024, 0.2038, 0.2053, 0.2067, 0.2081, 0.2096,\n",
       "        0.2110, 0.2125, 0.2140, 0.2154, 0.2169, 0.2184, 0.2200, 0.2215, 0.2230,\n",
       "        0.2246, 0.2261, 0.2277, 0.2293, 0.2309, 0.2325, 0.2341, 0.2357, 0.2373,\n",
       "        0.2390, 0.2406, 0.2423, 0.2440, 0.2457, 0.2474, 0.2491, 0.2508, 0.2526,\n",
       "        0.2543, 0.2561, 0.2579, 0.2597, 0.2615, 0.2633, 0.2651, 0.2669, 0.2688,\n",
       "        0.2707, 0.2725, 0.2744, 0.2763, 0.2783, 0.2802, 0.2821, 0.2841, 0.2861,\n",
       "        0.2880, 0.2900, 0.2921, 0.2941, 0.2961, 0.2982, 0.3002, 0.3023, 0.3044,\n",
       "        0.3065, 0.3087, 0.3108, 0.3130, 0.3151, 0.3173, 0.3195, 0.3217, 0.3240,\n",
       "        0.3262, 0.3285, 0.3308, 0.3331, 0.3354, 0.3377, 0.3400, 0.3424, 0.3448,\n",
       "        0.3472, 0.3496, 0.3520, 0.3544, 0.3569, 0.3594, 0.3619, 0.3644, 0.3669,\n",
       "        0.3695, 0.3720, 0.3746, 0.3772, 0.3798, 0.3825, 0.3851, 0.3878, 0.3905,\n",
       "        0.3932, 0.3959, 0.3987, 0.4014, 0.4042, 0.4070, 0.4098, 0.4127, 0.4155,\n",
       "        0.4184, 0.4213, 0.4243, 0.4272, 0.4302, 0.4331, 0.4362, 0.4392, 0.4422,\n",
       "        0.4453, 0.4484, 0.4515, 0.4546, 0.4578, 0.4610, 0.4642, 0.4674, 0.4706,\n",
       "        0.4739, 0.4772, 0.4805, 0.4838, 0.4872, 0.4906, 0.4940, 0.4974, 0.5008,\n",
       "        0.5043, 0.5078, 0.5113, 0.5149, 0.5185, 0.5221, 0.5257, 0.5293, 0.5330,\n",
       "        0.5367, 0.5404, 0.5442, 0.5479, 0.5517, 0.5556, 0.5594, 0.5633, 0.5672,\n",
       "        0.5712, 0.5751, 0.5791, 0.5831, 0.5872, 0.5913, 0.5954, 0.5995, 0.6036,\n",
       "        0.6078, 0.6120, 0.6163, 0.6206, 0.6249, 0.6292, 0.6336, 0.6380, 0.6424,\n",
       "        0.6469, 0.6513, 0.6559, 0.6604, 0.6650, 0.6696, 0.6743, 0.6789, 0.6837,\n",
       "        0.6884, 0.6932, 0.6980, 0.7028, 0.7077, 0.7126, 0.7176, 0.7225, 0.7275,\n",
       "        0.7326, 0.7377, 0.7428, 0.7480, 0.7531, 0.7584, 0.7636, 0.7689, 0.7743,\n",
       "        0.7796, 0.7850, 0.7905, 0.7960, 0.8015, 0.8071, 0.8127, 0.8183, 0.8240,\n",
       "        0.8297, 0.8355, 0.8412, 0.8471, 0.8530, 0.8589, 0.8648, 0.8708, 0.8769,\n",
       "        0.8830, 0.8891, 0.8953, 0.9015, 0.9077, 0.9140, 0.9204, 0.9268, 0.9332,\n",
       "        0.9397, 0.9462, 0.9528, 0.9594, 0.9660, 0.9727, 0.9795, 0.9863, 0.9931,\n",
       "        1.0000])"
      ]
     },
     "execution_count": 126,
     "metadata": {},
     "output_type": "execute_result"
    }
   ],
   "source": [
    "lre = torch.linspace(-3, 0, 1000)\n",
    "lrs = 10**lre\n",
    "lrs"
   ]
  },
  {
   "cell_type": "code",
   "execution_count": 127,
   "metadata": {},
   "outputs": [],
   "source": [
    "lri = []\n",
    "lossi = []\n",
    "\n",
    "for i in range(1000):\n",
    "#LR rate going to start very low, then will go to 1\n",
    "\n",
    "    ix = torch.randint(0, X.shape[0], (32,))\n",
    "\n",
    "    #Forward pass\n",
    "    emb = C[X[ix]]\n",
    "    h = torch.tanh(emb.view(-1, 6) @ W1 + b1)\n",
    "    logits = h @ W2 + b2\n",
    "    loss = F.cross_entropy(logits, Y[ix])\n",
    "\n",
    "    for p in parameters:\n",
    "        p.grad = None\n",
    "    \n",
    "    loss.backward()\n",
    "\n",
    "    for p in parameters:\n",
    "        p.data -= p.grad*lrs[i]\n",
    "\n",
    "    #track stats\n",
    "    lri.append(lre[i])\n",
    "    lossi.append(loss.item())\n",
    "\n",
    "# print(loss.item())"
   ]
  },
  {
   "cell_type": "code",
   "execution_count": 128,
   "metadata": {},
   "outputs": [
    {
     "data": {
      "text/plain": [
       "[<matplotlib.lines.Line2D at 0x137db9670>]"
      ]
     },
     "execution_count": 128,
     "metadata": {},
     "output_type": "execute_result"
    },
    {
     "data": {
      "image/png": "[encoded data removed]",
      "text/plain": [
       "<Figure size 640x480 with 1 Axes>"
      ]
     },
     "metadata": {},
     "output_type": "display_data"
    }
   ],
   "source": [
    "plt.plot(lri, lossi)"
   ]
  },
  {
   "cell_type": "markdown",
   "metadata": {},
   "source": [
    "Can see, at the start had very low LR, where barely anything happened, then found a nice spot (around 10**-1 to 10**-0.5), and then if you increased the LR enough, started to get unstable"
   ]
  },
  {
   "cell_type": "code",
   "execution_count": 142,
   "metadata": {},
   "outputs": [
    {
     "name": "stdout",
     "output_type": "stream",
     "text": [
      "2.0584003925323486\n"
     ]
    }
   ],
   "source": [
    "\n",
    "for i in range(5000):\n",
    "#LR rate going to start very low, then will go to 1\n",
    "\n",
    "    ix = torch.randint(0, X.shape[0], (32,))\n",
    "\n",
    "    #Forward pass\n",
    "    emb = C[X[ix]]\n",
    "    h = torch.tanh(emb.view(-1, 6) @ W1 + b1)\n",
    "    logits = h @ W2 + b2\n",
    "    loss = F.cross_entropy(logits, Y[ix])\n",
    "\n",
    "    for p in parameters:\n",
    "        p.grad = None\n",
    "    \n",
    "    loss.backward()\n",
    "\n",
    "    for p in parameters:\n",
    "        p.data -= p.grad*(10**-2)\n",
    "\n",
    "\n",
    "print(loss.item())"
   ]
  },
  {
   "cell_type": "markdown",
   "metadata": {},
   "source": [
    "Find a decent LR, training a while, then do ...\n",
    "\n",
    "Learning Rate Decay: where you reduce the LR by 10x, where at later stages in training might want to go a bit slower, train for a fewe more steps"
   ]
  },
  {
   "cell_type": "markdown",
   "metadata": {},
   "source": [
    "Notes got deleted so TLDR and screenshots...\n",
    "\n",
    "Train: Optimize params\n",
    "Val: Optimize Hyperparams\n",
    "Test: Needed to test model performance on unseen data, to ensure model is not simply memorizing training data\n",
    "\n",
    "Underfit: Val Loss == Train Loss, should increase model params/scale NN to improve performance (i.e larger hidden layers or embedding)\n",
    "Overfit, we start to see divergence between val and train loss; indicates we might have enough params"
   ]
  },
  {
   "attachments": {
    "image.png": {
     "image/png": "[encoded data removed]"
    }
   },
   "cell_type": "markdown",
   "metadata": {},
   "source": [
    "![image.png](attachment:image.png)"
   ]
  },
  {
   "cell_type": "markdown",
   "metadata": {},
   "source": [
    "Can see some thickness, beccaue optimizing using minibatches, and it creates some noise, One problem could be that the batch size is so low that we have way too much noise in the training, and we increase the batch size to get a more accurate gradient and not thrash too much and optimize properly"
   ]
  },
  {
   "cell_type": "markdown",
   "metadata": {},
   "source": []
  },
  {
   "cell_type": "code",
   "execution_count": null,
   "metadata": {},
   "outputs": [],
   "source": []
  }
 ],
 "metadata": {
  "kernelspec": {
   "display_name": "ml_stack",
   "language": "python",
   "name": "python3"
  },
  "language_info": {
   "codemirror_mode": {
    "name": "ipython",
    "version": 3
   },
   "file_extension": ".py",
   "mimetype": "text/x-python",
   "name": "python",
   "nbconvert_exporter": "python",
   "pygments_lexer": "ipython3",
   "version": "3.9.18"
  }
 },
 "nbformat": 4,
 "nbformat_minor": 2
}
